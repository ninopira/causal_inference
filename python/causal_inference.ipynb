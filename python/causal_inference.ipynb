{
 "cells": [
  {
   "cell_type": "code",
   "execution_count": 5,
   "metadata": {
    "ExecuteTime": {
     "end_time": "2019-08-05T10:38:51.205554Z",
     "start_time": "2019-08-05T10:38:51.186032Z"
    }
   },
   "outputs": [],
   "source": [
    "import lightgbm as lgb\n",
    "import matplotlib.font_manager as fm\n",
    "import matplotlib.pyplot as plt\n",
    "import numpy as np\n",
    "import pandas as pd\n",
    "import seaborn as sns\n",
    "from sklearn.ensemble import RandomForestClassifier, RandomForestRegressor\n",
    "from sklearn.linear_model import LinearRegression, LogisticRegression, Ridge\n",
    "from sklearn.metrics import log_loss, mean_squared_error, roc_auc_score\n",
    "from sklearn.model_selection import KFold, train_test_split\n",
    "from sklearn.metrics import roc_curve, auc\n",
    "from sklearn.neighbors import NearestNeighbors\n",
    "\n",
    "\n",
    "%matplotlib inline\n",
    "# その他設定\n",
    "pd.set_option('display.max_columns', 100)\n",
    "plt.style.use('seaborn-darkgrid')\n",
    "font = fm.FontProperties(fname='./TakaoPGothic.ttf')"
   ]
  },
  {
   "cell_type": "markdown",
   "metadata": {},
   "source": [
    "# 読み込み"
   ]
  },
  {
   "cell_type": "code",
   "execution_count": 6,
   "metadata": {
    "ExecuteTime": {
     "end_time": "2019-08-05T10:38:52.186398Z",
     "start_time": "2019-08-05T10:38:52.087777Z"
    }
   },
   "outputs": [
    {
     "data": {
      "text/plain": [
       "(10000, 35)"
      ]
     },
     "execution_count": 6,
     "metadata": {},
     "output_type": "execute_result"
    }
   ],
   "source": [
    "dataset_url = 'https://raw.githubusercontent.com/iwanami-datascience/vol3/master/kato%26hoshino/q_data_x.csv'\n",
    "df = pd.read_csv(dataset_url)\n",
    "df.shape"
   ]
  },
  {
   "cell_type": "code",
   "execution_count": 7,
   "metadata": {
    "ExecuteTime": {
     "end_time": "2019-08-05T10:38:52.854357Z",
     "start_time": "2019-08-05T10:38:52.822697Z"
    },
    "scrolled": true
   },
   "outputs": [
    {
     "data": {
      "text/html": [
       "<div>\n",
       "<style scoped>\n",
       "    .dataframe tbody tr th:only-of-type {\n",
       "        vertical-align: middle;\n",
       "    }\n",
       "\n",
       "    .dataframe tbody tr th {\n",
       "        vertical-align: top;\n",
       "    }\n",
       "\n",
       "    .dataframe thead th {\n",
       "        text-align: right;\n",
       "    }\n",
       "</style>\n",
       "<table border=\"1\" class=\"dataframe\">\n",
       "  <thead>\n",
       "    <tr style=\"text-align: right;\">\n",
       "      <th></th>\n",
       "      <th>cm_dummy</th>\n",
       "      <th>gamedummy</th>\n",
       "      <th>area_kanto</th>\n",
       "      <th>area_keihan</th>\n",
       "      <th>area_tokai</th>\n",
       "      <th>area_keihanshin</th>\n",
       "      <th>age</th>\n",
       "      <th>sex</th>\n",
       "      <th>marry_dummy</th>\n",
       "      <th>job_dummy1</th>\n",
       "      <th>job_dummy2</th>\n",
       "      <th>job_dummy3</th>\n",
       "      <th>job_dummy4</th>\n",
       "      <th>job_dummy5</th>\n",
       "      <th>job_dummy6</th>\n",
       "      <th>job_dummy7</th>\n",
       "      <th>job_dummy8</th>\n",
       "      <th>inc</th>\n",
       "      <th>pmoney</th>\n",
       "      <th>fam_str_dummy1</th>\n",
       "      <th>fam_str_dummy2</th>\n",
       "      <th>fam_str_dummy3</th>\n",
       "      <th>fam_str_dummy4</th>\n",
       "      <th>fam_str_dummy5</th>\n",
       "      <th>child_dummy</th>\n",
       "      <th>T</th>\n",
       "      <th>F1</th>\n",
       "      <th>F2</th>\n",
       "      <th>F3</th>\n",
       "      <th>M1</th>\n",
       "      <th>M2</th>\n",
       "      <th>M3</th>\n",
       "      <th>TVwatch_day</th>\n",
       "      <th>gamesecond</th>\n",
       "      <th>gamecount</th>\n",
       "    </tr>\n",
       "  </thead>\n",
       "  <tbody>\n",
       "    <tr>\n",
       "      <th>0</th>\n",
       "      <td>0</td>\n",
       "      <td>0</td>\n",
       "      <td>0</td>\n",
       "      <td>0</td>\n",
       "      <td>0</td>\n",
       "      <td>1</td>\n",
       "      <td>44.5</td>\n",
       "      <td>1</td>\n",
       "      <td>1</td>\n",
       "      <td>1</td>\n",
       "      <td>0</td>\n",
       "      <td>0</td>\n",
       "      <td>0</td>\n",
       "      <td>0</td>\n",
       "      <td>0</td>\n",
       "      <td>0</td>\n",
       "      <td>0</td>\n",
       "      <td>249.5</td>\n",
       "      <td>0.0</td>\n",
       "      <td>0</td>\n",
       "      <td>0</td>\n",
       "      <td>1</td>\n",
       "      <td>0</td>\n",
       "      <td>0</td>\n",
       "      <td>1</td>\n",
       "      <td>0</td>\n",
       "      <td>0</td>\n",
       "      <td>0</td>\n",
       "      <td>0</td>\n",
       "      <td>0</td>\n",
       "      <td>1</td>\n",
       "      <td>0</td>\n",
       "      <td>33.427600</td>\n",
       "      <td>0</td>\n",
       "      <td>0</td>\n",
       "    </tr>\n",
       "    <tr>\n",
       "      <th>1</th>\n",
       "      <td>0</td>\n",
       "      <td>0</td>\n",
       "      <td>0</td>\n",
       "      <td>1</td>\n",
       "      <td>0</td>\n",
       "      <td>0</td>\n",
       "      <td>34.5</td>\n",
       "      <td>1</td>\n",
       "      <td>1</td>\n",
       "      <td>1</td>\n",
       "      <td>0</td>\n",
       "      <td>0</td>\n",
       "      <td>0</td>\n",
       "      <td>0</td>\n",
       "      <td>0</td>\n",
       "      <td>0</td>\n",
       "      <td>0</td>\n",
       "      <td>800.0</td>\n",
       "      <td>12.5</td>\n",
       "      <td>0</td>\n",
       "      <td>0</td>\n",
       "      <td>1</td>\n",
       "      <td>0</td>\n",
       "      <td>0</td>\n",
       "      <td>1</td>\n",
       "      <td>0</td>\n",
       "      <td>0</td>\n",
       "      <td>0</td>\n",
       "      <td>0</td>\n",
       "      <td>0</td>\n",
       "      <td>1</td>\n",
       "      <td>0</td>\n",
       "      <td>31.542862</td>\n",
       "      <td>0</td>\n",
       "      <td>0</td>\n",
       "    </tr>\n",
       "    <tr>\n",
       "      <th>2</th>\n",
       "      <td>0</td>\n",
       "      <td>0</td>\n",
       "      <td>0</td>\n",
       "      <td>1</td>\n",
       "      <td>0</td>\n",
       "      <td>0</td>\n",
       "      <td>24.5</td>\n",
       "      <td>1</td>\n",
       "      <td>0</td>\n",
       "      <td>0</td>\n",
       "      <td>0</td>\n",
       "      <td>0</td>\n",
       "      <td>0</td>\n",
       "      <td>0</td>\n",
       "      <td>0</td>\n",
       "      <td>1</td>\n",
       "      <td>0</td>\n",
       "      <td>0.0</td>\n",
       "      <td>2.0</td>\n",
       "      <td>0</td>\n",
       "      <td>0</td>\n",
       "      <td>0</td>\n",
       "      <td>1</td>\n",
       "      <td>0</td>\n",
       "      <td>0</td>\n",
       "      <td>0</td>\n",
       "      <td>0</td>\n",
       "      <td>0</td>\n",
       "      <td>0</td>\n",
       "      <td>1</td>\n",
       "      <td>0</td>\n",
       "      <td>0</td>\n",
       "      <td>37.825805</td>\n",
       "      <td>0</td>\n",
       "      <td>0</td>\n",
       "    </tr>\n",
       "    <tr>\n",
       "      <th>3</th>\n",
       "      <td>0</td>\n",
       "      <td>0</td>\n",
       "      <td>0</td>\n",
       "      <td>1</td>\n",
       "      <td>0</td>\n",
       "      <td>0</td>\n",
       "      <td>44.5</td>\n",
       "      <td>1</td>\n",
       "      <td>1</td>\n",
       "      <td>1</td>\n",
       "      <td>0</td>\n",
       "      <td>0</td>\n",
       "      <td>0</td>\n",
       "      <td>0</td>\n",
       "      <td>0</td>\n",
       "      <td>0</td>\n",
       "      <td>0</td>\n",
       "      <td>800.0</td>\n",
       "      <td>2.0</td>\n",
       "      <td>0</td>\n",
       "      <td>0</td>\n",
       "      <td>1</td>\n",
       "      <td>0</td>\n",
       "      <td>0</td>\n",
       "      <td>1</td>\n",
       "      <td>0</td>\n",
       "      <td>0</td>\n",
       "      <td>0</td>\n",
       "      <td>0</td>\n",
       "      <td>0</td>\n",
       "      <td>1</td>\n",
       "      <td>0</td>\n",
       "      <td>36.345911</td>\n",
       "      <td>0</td>\n",
       "      <td>0</td>\n",
       "    </tr>\n",
       "    <tr>\n",
       "      <th>4</th>\n",
       "      <td>0</td>\n",
       "      <td>0</td>\n",
       "      <td>0</td>\n",
       "      <td>1</td>\n",
       "      <td>0</td>\n",
       "      <td>0</td>\n",
       "      <td>34.5</td>\n",
       "      <td>1</td>\n",
       "      <td>1</td>\n",
       "      <td>1</td>\n",
       "      <td>0</td>\n",
       "      <td>0</td>\n",
       "      <td>0</td>\n",
       "      <td>0</td>\n",
       "      <td>0</td>\n",
       "      <td>0</td>\n",
       "      <td>0</td>\n",
       "      <td>749.5</td>\n",
       "      <td>4.0</td>\n",
       "      <td>0</td>\n",
       "      <td>0</td>\n",
       "      <td>1</td>\n",
       "      <td>0</td>\n",
       "      <td>0</td>\n",
       "      <td>1</td>\n",
       "      <td>0</td>\n",
       "      <td>0</td>\n",
       "      <td>0</td>\n",
       "      <td>0</td>\n",
       "      <td>1</td>\n",
       "      <td>0</td>\n",
       "      <td>0</td>\n",
       "      <td>49.344942</td>\n",
       "      <td>0</td>\n",
       "      <td>0</td>\n",
       "    </tr>\n",
       "  </tbody>\n",
       "</table>\n",
       "</div>"
      ],
      "text/plain": [
       "   cm_dummy  gamedummy  area_kanto  area_keihan  area_tokai  area_keihanshin  \\\n",
       "0         0          0           0            0           0                1   \n",
       "1         0          0           0            1           0                0   \n",
       "2         0          0           0            1           0                0   \n",
       "3         0          0           0            1           0                0   \n",
       "4         0          0           0            1           0                0   \n",
       "\n",
       "    age  sex  marry_dummy  job_dummy1  job_dummy2  job_dummy3  job_dummy4  \\\n",
       "0  44.5    1            1           1           0           0           0   \n",
       "1  34.5    1            1           1           0           0           0   \n",
       "2  24.5    1            0           0           0           0           0   \n",
       "3  44.5    1            1           1           0           0           0   \n",
       "4  34.5    1            1           1           0           0           0   \n",
       "\n",
       "   job_dummy5  job_dummy6  job_dummy7  job_dummy8    inc  pmoney  \\\n",
       "0           0           0           0           0  249.5     0.0   \n",
       "1           0           0           0           0  800.0    12.5   \n",
       "2           0           0           1           0    0.0     2.0   \n",
       "3           0           0           0           0  800.0     2.0   \n",
       "4           0           0           0           0  749.5     4.0   \n",
       "\n",
       "   fam_str_dummy1  fam_str_dummy2  fam_str_dummy3  fam_str_dummy4  \\\n",
       "0               0               0               1               0   \n",
       "1               0               0               1               0   \n",
       "2               0               0               0               1   \n",
       "3               0               0               1               0   \n",
       "4               0               0               1               0   \n",
       "\n",
       "   fam_str_dummy5  child_dummy  T  F1  F2  F3  M1  M2  M3  TVwatch_day  \\\n",
       "0               0            1  0   0   0   0   0   1   0    33.427600   \n",
       "1               0            1  0   0   0   0   0   1   0    31.542862   \n",
       "2               0            0  0   0   0   0   1   0   0    37.825805   \n",
       "3               0            1  0   0   0   0   0   1   0    36.345911   \n",
       "4               0            1  0   0   0   0   1   0   0    49.344942   \n",
       "\n",
       "   gamesecond  gamecount  \n",
       "0           0          0  \n",
       "1           0          0  \n",
       "2           0          0  \n",
       "3           0          0  \n",
       "4           0          0  "
      ]
     },
     "execution_count": 7,
     "metadata": {},
     "output_type": "execute_result"
    }
   ],
   "source": [
    "df.head()"
   ]
  },
  {
   "cell_type": "code",
   "execution_count": 8,
   "metadata": {
    "ExecuteTime": {
     "end_time": "2019-08-05T10:38:54.672653Z",
     "start_time": "2019-08-05T10:38:54.664029Z"
    }
   },
   "outputs": [
    {
     "data": {
      "text/plain": [
       "Index(['cm_dummy', 'gamedummy', 'area_kanto', 'area_keihan', 'area_tokai',\n",
       "       'area_keihanshin', 'age', 'sex', 'marry_dummy', 'job_dummy1',\n",
       "       'job_dummy2', 'job_dummy3', 'job_dummy4', 'job_dummy5', 'job_dummy6',\n",
       "       'job_dummy7', 'job_dummy8', 'inc', 'pmoney', 'fam_str_dummy1',\n",
       "       'fam_str_dummy2', 'fam_str_dummy3', 'fam_str_dummy4', 'fam_str_dummy5',\n",
       "       'child_dummy', 'T', 'F1', 'F2', 'F3', 'M1', 'M2', 'M3', 'TVwatch_day',\n",
       "       'gamesecond', 'gamecount'],\n",
       "      dtype='object')"
      ]
     },
     "execution_count": 8,
     "metadata": {},
     "output_type": "execute_result"
    }
   ],
   "source": [
    "df.columns"
   ]
  },
  {
   "cell_type": "markdown",
   "metadata": {},
   "source": [
    "# EDA"
   ]
  },
  {
   "cell_type": "markdown",
   "metadata": {},
   "source": [
    "今回は、「CM施策後のゲームの利用時間」であるgamesecondを目的変数とする。  \n",
    "また、CMを見たかの割り当てはcm_dummyである。  \n",
    "詳細は、岩波データサイエンスvol3を参照。"
   ]
  },
  {
   "cell_type": "code",
   "execution_count": 9,
   "metadata": {
    "ExecuteTime": {
     "end_time": "2019-08-05T10:38:59.138177Z",
     "start_time": "2019-08-05T10:38:59.124764Z"
    }
   },
   "outputs": [
    {
     "data": {
      "text/plain": [
       "count     10000.000000\n",
       "mean       2846.783400\n",
       "std       17973.608991\n",
       "min           0.000000\n",
       "25%           0.000000\n",
       "50%           0.000000\n",
       "75%           0.000000\n",
       "max      364814.000000\n",
       "Name: gamesecond, dtype: float64"
      ]
     },
     "execution_count": 9,
     "metadata": {},
     "output_type": "execute_result"
    }
   ],
   "source": [
    "df['gamesecond'].describe()"
   ]
  },
  {
   "cell_type": "code",
   "execution_count": 10,
   "metadata": {
    "ExecuteTime": {
     "end_time": "2019-08-05T10:39:00.083405Z",
     "start_time": "2019-08-05T10:38:59.873932Z"
    }
   },
   "outputs": [
    {
     "name": "stderr",
     "output_type": "stream",
     "text": [
      "/usr/local/lib/python3.5/dist-packages/scipy/stats/stats.py:1713: FutureWarning: Using a non-tuple sequence for multidimensional indexing is deprecated; use `arr[tuple(seq)]` instead of `arr[seq]`. In the future this will be interpreted as an array index, `arr[np.array(seq)]`, which will result either in an error or a different result.\n",
      "  return np.add.reduce(sorted[indexer] * weights, axis=axis) / sumval\n"
     ]
    },
    {
     "data": {
      "image/png": "[encoded data removed]",
      "text/plain": [
       "<Figure size 504x504 with 1 Axes>"
      ]
     },
     "metadata": {},
     "output_type": "display_data"
    }
   ],
   "source": [
    "fig = plt.figure(figsize=(7, 7))\n",
    "ax = fig.add_subplot(1, 1, 1)\n",
    "ax = sns.violinplot(x=df[\"gamesecond\"])\n",
    "fig.show()"
   ]
  },
  {
   "cell_type": "markdown",
   "metadata": {},
   "source": [
    "## 割り当てとyの関係の可視化"
   ]
  },
  {
   "cell_type": "markdown",
   "metadata": {},
   "source": [
    "単純に集計すると、割り当てなしの方が効果があるという結果になる。"
   ]
  },
  {
   "cell_type": "code",
   "execution_count": 11,
   "metadata": {
    "ExecuteTime": {
     "end_time": "2019-08-05T10:39:02.725891Z",
     "start_time": "2019-08-05T10:39:02.306799Z"
    }
   },
   "outputs": [
    {
     "data": {
      "image/png": "[encoded data removed]",
      "text/plain": [
       "<Figure size 504x504 with 1 Axes>"
      ]
     },
     "metadata": {},
     "output_type": "display_data"
    }
   ],
   "source": [
    "fig = plt.figure(figsize=(7, 7))\n",
    "ax = fig.add_subplot(1, 1, 1)\n",
    "ax = sns.barplot(x='cm_dummy', y='gamesecond', data=df, ax=ax)\n",
    "ax.set_xticklabels(['CM見てない(z=0)', 'CM見た(z=1)'], fontproperties=font)\n",
    "ax.set_xlabel('')\n",
    "ax.set_ylabel('平均ゲーム利用時間 [秒]', fontproperties=font)\n",
    "fig.show()"
   ]
  },
  {
   "cell_type": "code",
   "execution_count": 12,
   "metadata": {
    "ExecuteTime": {
     "end_time": "2019-08-05T10:39:03.708064Z",
     "start_time": "2019-08-05T10:39:03.474735Z"
    }
   },
   "outputs": [
    {
     "data": {
      "image/png": "[encoded data removed]",
      "text/plain": [
       "<Figure size 504x504 with 1 Axes>"
      ]
     },
     "metadata": {},
     "output_type": "display_data"
    }
   ],
   "source": [
    "fig = plt.figure(figsize=(7, 7))\n",
    "ax = fig.add_subplot(1, 1, 1)\n",
    "ax = sns.violinplot(x='cm_dummy', y='gamesecond', data=df, ax=ax)\n",
    "ax.set_xticklabels(['CM見てない(z=0)', 'CM見た(z=1)'], fontproperties=font)\n",
    "fig.show()"
   ]
  },
  {
   "cell_type": "code",
   "execution_count": 13,
   "metadata": {
    "ExecuteTime": {
     "end_time": "2019-08-05T10:39:03.755466Z",
     "start_time": "2019-08-05T10:39:03.741530Z"
    },
    "scrolled": true
   },
   "outputs": [
    {
     "name": "stdout",
     "output_type": "stream",
     "text": [
      "0 count      5856.000000\n",
      "mean       3107.706455\n",
      "std       19496.771900\n",
      "min           0.000000\n",
      "25%           0.000000\n",
      "50%           0.000000\n",
      "75%           0.000000\n",
      "max      364814.000000\n",
      "Name: gamesecond, dtype: float64\n",
      "1 count      4144.000000\n",
      "mean       2478.065878\n",
      "std       15564.015196\n",
      "min           0.000000\n",
      "25%           0.000000\n",
      "50%           0.000000\n",
      "75%           0.000000\n",
      "max      223096.000000\n",
      "Name: gamesecond, dtype: float64\n"
     ]
    }
   ],
   "source": [
    "for z in (0, 1):\n",
    "    df_tmp = df[df['cm_dummy'] == z]\n",
    "    print(z, df_tmp['gamesecond'].describe())"
   ]
  },
  {
   "cell_type": "markdown",
   "metadata": {
    "ExecuteTime": {
     "end_time": "2019-07-07T09:44:51.163344Z",
     "start_time": "2019-07-07T09:44:51.160486Z"
    }
   },
   "source": [
    "# 傾向スコアモデリング"
   ]
  },
  {
   "cell_type": "markdown",
   "metadata": {},
   "source": [
    "$P(z|x)$を求める  。  \n",
    "モデルは別になんでも良い。  \n",
    "一応、CVを切る。  \n",
    "パラメータチューニングは省略。"
   ]
  },
  {
   "cell_type": "code",
   "execution_count": 19,
   "metadata": {
    "ExecuteTime": {
     "end_time": "2019-08-05T10:40:31.682814Z",
     "start_time": "2019-08-05T10:40:31.668035Z"
    }
   },
   "outputs": [
    {
     "data": {
      "text/plain": [
       "((10000, 31), (10000,))"
      ]
     },
     "execution_count": 19,
     "metadata": {},
     "output_type": "execute_result"
    }
   ],
   "source": [
    "z_col = 'cm_dummy'\n",
    "x_cols = [\n",
    "    col for col in df.columns\n",
    "    if col not in ['gamecount', 'gamedummy', 'gamesecond', 'cm_dummy']\n",
    "]\n",
    "df_x = df[x_cols]\n",
    "df_z = df[z_col]\n",
    "df_x.shape, df_z.shape"
   ]
  },
  {
   "cell_type": "markdown",
   "metadata": {
    "ExecuteTime": {
     "end_time": "2019-07-14T05:43:59.977559Z",
     "start_time": "2019-07-14T05:43:59.974123Z"
    }
   },
   "source": [
    "## 各種モデルの学習"
   ]
  },
  {
   "cell_type": "markdown",
   "metadata": {},
   "source": [
    "### 学習_refact"
   ]
  },
  {
   "cell_type": "code",
   "execution_count": 72,
   "metadata": {
    "ExecuteTime": {
     "end_time": "2019-08-05T12:04:20.794707Z",
     "start_time": "2019-08-05T12:04:00.309464Z"
    }
   },
   "outputs": [
    {
     "name": "stdout",
     "output_type": "stream",
     "text": [
      "CV_0\n",
      "LightGBM_fitting...\n",
      "Training until validation scores don't improve for 100 rounds.\n",
      "[1000]\ttrain's binary_logloss: 0.00287849\tval's binary_logloss: 0.0025452\n",
      "[2000]\ttrain's binary_logloss: 0.00249825\tval's binary_logloss: 0.00200553\n",
      "Early stopping, best iteration is:\n",
      "[2217]\ttrain's binary_logloss: 0.00249731\tval's binary_logloss: 0.00200367\n",
      "LogisticRegression_fitting...\n",
      "RandomForestClassifier_fitting...\n"
     ]
    },
    {
     "name": "stderr",
     "output_type": "stream",
     "text": [
      "/usr/local/lib/python3.5/dist-packages/sklearn/linear_model/logistic.py:432: FutureWarning: Default solver will be changed to 'lbfgs' in 0.22. Specify a solver to silence this warning.\n",
      "  FutureWarning)\n"
     ]
    },
    {
     "name": "stdout",
     "output_type": "stream",
     "text": [
      "insample_logloss_of_LightGBM:0.002398579836001155\n",
      "insample_logloss_of_LogisticRegression:0.5392044156301812\n",
      "insample_logloss_of_RandomForestClassifier:0.0018494446883706962\n",
      "oof_logloss_of_LightGBM:0.0021271452872126356\n",
      "oof_logloss_of_LogisticRegression:0.5378723802047685\n",
      "oof_logloss_of_RandomForestClassifier:0.004592223904216834\n",
      "CV_1\n",
      "LightGBM_fitting...\n",
      "Training until validation scores don't improve for 100 rounds.\n",
      "[1000]\ttrain's binary_logloss: 0.00202121\tval's binary_logloss: 0.00300043\n",
      "Early stopping, best iteration is:\n",
      "[1561]\ttrain's binary_logloss: 0.00169058\tval's binary_logloss: 0.00252596\n",
      "LogisticRegression_fitting...\n",
      "RandomForestClassifier_fitting...\n"
     ]
    },
    {
     "name": "stderr",
     "output_type": "stream",
     "text": [
      "/usr/local/lib/python3.5/dist-packages/sklearn/linear_model/logistic.py:432: FutureWarning: Default solver will be changed to 'lbfgs' in 0.22. Specify a solver to silence this warning.\n",
      "  FutureWarning)\n"
     ]
    },
    {
     "name": "stdout",
     "output_type": "stream",
     "text": [
      "insample_logloss_of_LightGBM:0.0018576520788190927\n",
      "insample_logloss_of_LogisticRegression:0.5431429907993707\n",
      "insample_logloss_of_RandomForestClassifier:0.0017832959498937423\n",
      "oof_logloss_of_LightGBM:0.0021513571301364303\n",
      "oof_logloss_of_LogisticRegression:0.5434957028392358\n",
      "oof_logloss_of_RandomForestClassifier:0.004536059837726091\n",
      "CV_2\n",
      "LightGBM_fitting...\n",
      "Training until validation scores don't improve for 100 rounds.\n",
      "[1000]\ttrain's binary_logloss: 0.00125534\tval's binary_logloss: 0.00666954\n",
      "Early stopping, best iteration is:\n",
      "[962]\ttrain's binary_logloss: 0.00138531\tval's binary_logloss: 0.00603833\n",
      "LogisticRegression_fitting...\n",
      "RandomForestClassifier_fitting...\n"
     ]
    },
    {
     "name": "stderr",
     "output_type": "stream",
     "text": [
      "/usr/local/lib/python3.5/dist-packages/sklearn/linear_model/logistic.py:432: FutureWarning: Default solver will be changed to 'lbfgs' in 0.22. Specify a solver to silence this warning.\n",
      "  FutureWarning)\n"
     ]
    },
    {
     "name": "stdout",
     "output_type": "stream",
     "text": [
      "insample_logloss_of_LightGBM:0.002315917947630227\n",
      "insample_logloss_of_LogisticRegression:0.5357155924442081\n",
      "insample_logloss_of_RandomForestClassifier:0.0018426112062640675\n",
      "oof_logloss_of_LightGBM:0.004122994693061912\n",
      "oof_logloss_of_LogisticRegression:0.5509982601838586\n",
      "oof_logloss_of_RandomForestClassifier:0.005396256367183023\n",
      "CV_3\n",
      "LightGBM_fitting...\n",
      "Training until validation scores don't improve for 100 rounds.\n",
      "[1000]\ttrain's binary_logloss: 0.00201748\tval's binary_logloss: 0.00338443\n",
      "Early stopping, best iteration is:\n",
      "[1367]\ttrain's binary_logloss: 0.00164596\tval's binary_logloss: 0.00276707\n",
      "LogisticRegression_fitting...\n",
      "RandomForestClassifier_fitting...\n"
     ]
    },
    {
     "name": "stderr",
     "output_type": "stream",
     "text": [
      "/usr/local/lib/python3.5/dist-packages/sklearn/linear_model/logistic.py:432: FutureWarning: Default solver will be changed to 'lbfgs' in 0.22. Specify a solver to silence this warning.\n",
      "  FutureWarning)\n"
     ]
    },
    {
     "name": "stdout",
     "output_type": "stream",
     "text": [
      "insample_logloss_of_LightGBM:0.001870185242864432\n",
      "insample_logloss_of_LogisticRegression:0.5402696650610179\n",
      "insample_logloss_of_RandomForestClassifier:0.0016801638311458081\n",
      "oof_logloss_of_LightGBM:0.005697833872001883\n",
      "oof_logloss_of_LogisticRegression:0.5343974034517758\n",
      "oof_logloss_of_RandomForestClassifier:0.004335153935460292\n",
      "CV_4\n",
      "LightGBM_fitting...\n",
      "Training until validation scores don't improve for 100 rounds.\n",
      "[1000]\ttrain's binary_logloss: 0.00203689\tval's binary_logloss: 0.0086581\n",
      "Early stopping, best iteration is:\n",
      "[1105]\ttrain's binary_logloss: 0.00184907\tval's binary_logloss: 0.00825027\n",
      "LogisticRegression_fitting...\n",
      "RandomForestClassifier_fitting...\n"
     ]
    },
    {
     "name": "stderr",
     "output_type": "stream",
     "text": [
      "/usr/local/lib/python3.5/dist-packages/sklearn/linear_model/logistic.py:432: FutureWarning: Default solver will be changed to 'lbfgs' in 0.22. Specify a solver to silence this warning.\n",
      "  FutureWarning)\n"
     ]
    },
    {
     "name": "stdout",
     "output_type": "stream",
     "text": [
      "insample_logloss_of_LightGBM:0.0031293126289896134\n",
      "insample_logloss_of_LogisticRegression:0.5399540565031865\n",
      "insample_logloss_of_RandomForestClassifier:0.0017559090781723706\n",
      "oof_logloss_of_LightGBM:0.001630793392652108\n",
      "oof_logloss_of_LogisticRegression:0.5439383749620381\n",
      "oof_logloss_of_RandomForestClassifier:0.004893507277718701\n",
      "all_CV_done\n",
      "CV_insample_logloss_of_LightGBM:0.002314329546860904\n",
      "CV_insample_logloss_of_LogisticRegression:0.5396573440875929\n",
      "CV_insample_logloss_of_RandomForestClassifier:0.0017822849507693373\n",
      "CV_oof_logloss_of_LightGBM:0.003146024875012994\n",
      "CV_oof_logloss_of_LogisticRegression:0.5421404243283353\n",
      "CV_oof_logloss_of_RandomForestClassifier:0.004750640264460989\n"
     ]
    }
   ],
   "source": [
    "test_ratio = 0.2\n",
    "oof_preds_lgb = np.zeros(df.shape[0])\n",
    "oof_preds_lr = np.zeros(df.shape[0])\n",
    "oof_preds_rf = np.zeros(df.shape[0])\n",
    "insample_logloss_list_lgb = []\n",
    "insample_logloss_list_lr = []\n",
    "insample_logloss_list_rf = []\n",
    "feature_importance_df = pd.DataFrame()\n",
    "\n",
    "kf = KFold(n_splits=5, shuffle=True, random_state=0)\n",
    "for n_fold, (train_index, valid_index) in enumerate(kf.split(df_x)):\n",
    "    print('CV_{}'.format(n_fold))\n",
    "    X_train, z_train = df_x.values[train_index], df_z.values[train_index]\n",
    "    X_test, z_test = df_x.values[valid_index], df_z.values[valid_index]\n",
    "\n",
    "    # train -> TRAIN / VALに分割\n",
    "    num_test = int(len(X_train) * test_ratio)\n",
    "    index_all = np.random.choice(len(X_train),  len(X_train), replace=False)\n",
    "    index_VAL = index_all[0:num_test]\n",
    "    index_TRAIN = index_all[num_test:len(X_train)]\n",
    "    X_TRAIN, z_TRAIN = X_train[index_TRAIN], z_train[index_TRAIN]\n",
    "    X_VAL, z_VAL = X_train[index_VAL], z_train[index_VAL]\n",
    "    lgb_train = lgb.Dataset(X_TRAIN, label=z_TRAIN, free_raw_data=False)\n",
    "    lgb_val = lgb.Dataset(X_VAL, label=z_VAL, free_raw_data=False)\n",
    "\n",
    "    # LightGBM\n",
    "    print('LightGBM_fitting...')\n",
    "    params = {\n",
    "        'task': 'train',\n",
    "        'objective': 'binary',\n",
    "        'metric': 'binary',\n",
    "    }\n",
    "    model_lgb = lgb.train(\n",
    "        params,\n",
    "        lgb_train,\n",
    "        valid_sets=[lgb_train, lgb_val],\n",
    "        valid_names=['train', 'val'],\n",
    "        num_boost_round=100000,\n",
    "        early_stopping_rounds=100,\n",
    "        verbose_eval=1000)\n",
    "    # LogisticRegression\n",
    "    print('LogisticRegression_fitting...')\n",
    "    model_lr = LogisticRegression()\n",
    "    model_lr.fit(X_train, z_train)\n",
    "\n",
    "    #RF\n",
    "    print('RandomForestClassifier_fitting...')\n",
    "    model_rf =  RandomForestClassifier(n_estimators=500)\n",
    "    model_rf.fit(X_train, z_train)\n",
    "    \n",
    "    # pred_for_insample\n",
    "    # NOTE: 正確にはLightGBMではTrain ->(TRAIN., VAL)に分割している\n",
    "    pred_insample_lgb = model_lgb.predict(X_train, num_iteration=model_lgb.best_iteration)\n",
    "    pred_insample_lr =   model_lr.predict_proba(X_train)[:, 1]\n",
    "    pred_insample_rf =   model_rf.predict_proba(X_train)[:, 1]\n",
    "    insample_logloss_lgb = (log_loss(z_train, pred_insample_lgb))\n",
    "    insample_logloss_lr = (log_loss(z_train, pred_insample_lr))\n",
    "    insample_logloss_rf = (log_loss(z_train, pred_insample_rf))\n",
    "    print('insample_logloss_of_LightGBM:{}'.format(insample_logloss_lgb))\n",
    "    print('insample_logloss_of_LogisticRegression:{}'.format(insample_logloss_lr))\n",
    "    print('insample_logloss_of_RandomForestClassifier:{}'.format(insample_logloss_rf))\n",
    "    insample_logloss_list_lgb.append(insample_logloss_lgb)\n",
    "    insample_logloss_list_lr.append(insample_logloss_lr)\n",
    "    insample_logloss_list_rf.append(insample_logloss_rf)\n",
    "\n",
    "    # pred_for_oof\n",
    "    oof_pred_lgb = model_lgb.predict(X_test, num_iteration=model_lgb.best_iteration)\n",
    "    oof_pred_lr = model_lr.predict_proba(X_test)[:, 1]\n",
    "    oof_pred_rf = model_rf.predict_proba(X_test)[:, 1]\n",
    "    \n",
    "    oof_preds_lgb[valid_index] = oof_pred_lgb\n",
    "    oof_preds_lr[valid_index] = oof_pred_lr\n",
    "    oof_preds_rf[valid_index] = oof_pred_rf\n",
    "\n",
    "    oof_logloss_lgb = (log_loss(z_test, oof_pred_lgb))\n",
    "    oof_logloss_lr = (log_loss(z_test, oof_pred_lr))\n",
    "    oof_logloss_rf = (log_loss(z_test,oof_pred_rf))\n",
    "    print('oof_logloss_of_LightGBM:{}'.format(oof_logloss_lgb))\n",
    "    print('oof_logloss_of_LogisticRegression:{}'.format(oof_logloss_lr))\n",
    "    print('oof_logloss_of_RandomForestClassifier:{}'.format(oof_logloss_rf))\n",
    "\n",
    "\n",
    "    # 重要度の算出\n",
    "    fold_importance_df = pd.DataFrame()\n",
    "    fold_importance_df[\"feature\"] = x_cols\n",
    "    fold_importance_df[\"importance\"] = np.log1p(\n",
    "        model_lgb.feature_importance(\n",
    "        importance_type='gain', iteration=model_lgb.best_iteration))\n",
    "    fold_importance_df[\"fold\"] = n_fold + 1\n",
    "    feature_importance_df = pd.concat(\n",
    "        [feature_importance_df, fold_importance_df], axis=0)\n",
    "\n",
    "print('all_CV_done')\n",
    "print('CV_insample_logloss_of_LightGBM:{}'.format(np.mean(insample_logloss_list_lgb)))\n",
    "print('CV_insample_logloss_of_LogisticRegression:{}'.format(np.mean(insample_logloss_list_lr)))\n",
    "print('CV_insample_logloss_of_RandomForestClassifier:{}'.format(np.mean(insample_logloss_list_rf)))\n",
    "print('CV_oof_logloss_of_LightGBM:{}'.format(log_loss(df_z, oof_preds_lgb)))\n",
    "print('CV_oof_logloss_of_LogisticRegression:{}'.format(log_loss(df_z, oof_preds_lr)))\n",
    "print('CV_oof_logloss_of_RandomForestClassifier:{}'.format(log_loss(df_z, oof_preds_rf)))\n",
    "\n",
    "# #予測値をdfに追加\n",
    "df['pred_lgb'] = oof_preds_lgb\n",
    "df['pred_lr'] = oof_preds_lr\n",
    "df['pred_rf'] = oof_preds_rf"
   ]
  },
  {
   "cell_type": "code",
   "execution_count": 664,
   "metadata": {
    "ExecuteTime": {
     "end_time": "2019-07-15T11:32:23.786743Z",
     "start_time": "2019-07-15T11:32:23.781433Z"
    }
   },
   "outputs": [
    {
     "data": {
      "text/plain": [
       "(0.4144, 0.4139583733150712, 0.4153451686903096, 0.4143629999999999)"
      ]
     },
     "execution_count": 664,
     "metadata": {},
     "output_type": "execute_result"
    }
   ],
   "source": [
    "df['cm_dummy'].mean(), df['pred_lgb'].mean(), df['pred_lr'].mean(), df['pred_rf'].mean()"
   ]
  },
  {
   "cell_type": "markdown",
   "metadata": {},
   "source": [
    "### importance の可視化"
   ]
  },
  {
   "cell_type": "code",
   "execution_count": 53,
   "metadata": {
    "ExecuteTime": {
     "end_time": "2019-08-05T11:09:34.593668Z",
     "start_time": "2019-08-05T11:09:34.580126Z"
    }
   },
   "outputs": [],
   "source": [
    "def display_importances(feature_importance_df_, png_path=None):\n",
    "    cols = feature_importance_df_[[\n",
    "        \"feature\", \"importance\"\n",
    "    ]].groupby(\"feature\").mean().sort_values(\n",
    "        by=\"importance\", ascending=False)[:100].index\n",
    "    best_features = feature_importance_df_.loc[\n",
    "        feature_importance_df_.feature.isin(cols)]\n",
    "\n",
    "    plt.figure(figsize=(12, 15))\n",
    "    sns.barplot(\n",
    "        x=\"importance\",\n",
    "        y=\"feature\",\n",
    "        data=best_features.sort_values(by=\"importance\", ascending=False))\n",
    "    plt.title('LightGBM Features (avg over folds)')\n",
    "    plt.tight_layout()\n",
    "    if png_path is not None:\n",
    "        plt.savefig(png_path)"
   ]
  },
  {
   "cell_type": "code",
   "execution_count": 54,
   "metadata": {
    "ExecuteTime": {
     "end_time": "2019-08-05T11:09:37.970670Z",
     "start_time": "2019-08-05T11:09:36.904536Z"
    },
    "scrolled": true
   },
   "outputs": [
    {
     "name": "stderr",
     "output_type": "stream",
     "text": [
      "/usr/local/lib/python3.5/dist-packages/scipy/stats/stats.py:1713: FutureWarning: Using a non-tuple sequence for multidimensional indexing is deprecated; use `arr[tuple(seq)]` instead of `arr[seq]`. In the future this will be interpreted as an array index, `arr[np.array(seq)]`, which will result either in an error or a different result.\n",
      "  return np.add.reduce(sorted[indexer] * weights, axis=axis) / sumval\n"
     ]
    },
    {
     "data": {
      "image/png": "[encoded data removed]",
      "text/plain": [
       "<Figure size 864x1080 with 1 Axes>"
      ]
     },
     "metadata": {},
     "output_type": "display_data"
    }
   ],
   "source": [
    "display_importances(feature_importance_df)"
   ]
  },
  {
   "cell_type": "markdown",
   "metadata": {},
   "source": [
    "## ROC曲線 / AUC(c統計量の算出)"
   ]
  },
  {
   "cell_type": "code",
   "execution_count": 71,
   "metadata": {
    "ExecuteTime": {
     "end_time": "2019-08-05T12:03:21.382080Z",
     "start_time": "2019-08-05T12:03:21.145076Z"
    }
   },
   "outputs": [
    {
     "name": "stdout",
     "output_type": "stream",
     "text": [
      "model:lgb_auc:0.999752\n",
      "model:rf_auc:1.000000\n",
      "model:lr_auc:0.790189\n"
     ]
    },
    {
     "data": {
      "image/png": "[encoded data removed]",
      "text/plain": [
       "<Figure size 432x432 with 1 Axes>"
      ]
     },
     "metadata": {},
     "output_type": "display_data"
    }
   ],
   "source": [
    "fig = plt.figure(figsize=[6, 6])\n",
    "ax = fig.add_subplot(111, aspect='equal')\n",
    "for model in ['lgb', 'rf', 'lr']:\n",
    "    prob = df['pred_{}'.format(model)]\n",
    "    fpr, tpr, t = roc_curve(df['cm_dummy'], prob)\n",
    "    roc_auc = auc(fpr, tpr)\n",
    "    print('model:{}_auc:{:.6f}'.format(model, roc_auc))\n",
    "    ax.plot(fpr, tpr, lw=2, alpha=0.3, label='{}_ROC(AUC = {:.6f})'.format(model, roc_auc))\n",
    "ax.legend(prop={'size': 10})\n",
    "fig.show()"
   ]
  },
  {
   "cell_type": "markdown",
   "metadata": {},
   "source": [
    "## 傾向スコアの分布の確認"
   ]
  },
  {
   "cell_type": "code",
   "execution_count": 65,
   "metadata": {
    "ExecuteTime": {
     "end_time": "2019-08-05T11:16:51.739827Z",
     "start_time": "2019-08-05T11:16:51.724269Z"
    },
    "scrolled": true
   },
   "outputs": [],
   "source": [
    "def visualize_ps(model, png_path=None):\n",
    "    fig = plt.figure(figsize=[6, 6])\n",
    "    ax = fig.add_subplot(111)\n",
    "    bins = np.linspace(0, 1, 100)\n",
    "    ax.hist(\n",
    "        df[df['cm_dummy'] == 0]['pred_{}'.format(model)],\n",
    "        bins=bins,\n",
    "        color='red',\n",
    "        width=0.01,\n",
    "        alpha=0.2,\n",
    "        label='ctr')\n",
    "    ax.hist(\n",
    "        df[df['cm_dummy'] == 1]['pred_{}'.format(model)],\n",
    "        bins=bins,\n",
    "        color='blue',\n",
    "        width=0.01,\n",
    "        alpha=0.2,\n",
    "        label='test')\n",
    "    ax.set_xlim(0, 1.0)\n",
    "    ax.legend(prop={'size': 10})\n",
    "    ax.set_title('{}_PS'.format(model), fontdict={'fontsize': 10})\n",
    "    fig.show()\n",
    "    if png_path is not None:\n",
    "        fig.savefig(png_path)"
   ]
  },
  {
   "cell_type": "code",
   "execution_count": 66,
   "metadata": {
    "ExecuteTime": {
     "end_time": "2019-08-05T11:17:02.433196Z",
     "start_time": "2019-08-05T11:17:00.307098Z"
    }
   },
   "outputs": [
    {
     "data": {
      "image/png": "[encoded data removed]",
      "text/plain": [
       "<Figure size 432x432 with 1 Axes>"
      ]
     },
     "metadata": {},
     "output_type": "display_data"
    },
    {
     "data": {
      "image/png": "[encoded data removed]",
      "text/plain": [
       "<Figure size 432x432 with 1 Axes>"
      ]
     },
     "metadata": {},
     "output_type": "display_data"
    },
    {
     "data": {
      "image/png": "[encoded data removed]",
      "text/plain": [
       "<Figure size 432x432 with 1 Axes>"
      ]
     },
     "metadata": {},
     "output_type": "display_data"
    }
   ],
   "source": [
    "for model in ['lgb', 'lr', 'rf']:\n",
    "    visualize_ps(model)"
   ]
  },
  {
   "cell_type": "markdown",
   "metadata": {},
   "source": [
    "## 傾向スコアの逆数で共変量を重み付け"
   ]
  },
  {
   "cell_type": "code",
   "execution_count": 824,
   "metadata": {
    "ExecuteTime": {
     "end_time": "2019-07-27T06:51:58.874390Z",
     "start_time": "2019-07-27T06:51:57.417095Z"
    }
   },
   "outputs": [
    {
     "data": {
      "image/png": "[encoded data removed]",
      "text/plain": [
       "<Figure size 864x432 with 2 Axes>"
      ]
     },
     "metadata": {},
     "output_type": "display_data"
    }
   ],
   "source": [
    "col = 'TVwatch_day'\n",
    "model = 'lr'\n",
    "z_col = 'cm_dummy'\n",
    "ps_col = 'pred_{}'.format(model)\n",
    "\n",
    "df_test = df.loc[df[z_col] == 1][[col, ps_col]]\n",
    "df_ctr = df.loc[df[z_col] == 0][[col, ps_col]]\n",
    "x_test_inv = df_test[col] / df_test[ps_col]\n",
    "x_ctr_inv = df_ctr[col] / (1 - df_ctr[ps_col])\n",
    "\n",
    "fig = plt.figure(figsize=[12, 6])\n",
    "ax = fig.add_subplot(211)\n",
    "bins = 100\n",
    "ax.hist(df_ctr[col], bins=bins, color='red', alpha=0.2, label='ctr', density=True)\n",
    "ax.hist(df_test[col], bins=bins, color='blue', alpha=0.2, label='test', density=True)\n",
    "ax.legend(prop={'size': 10})\n",
    "ax.set_title('before_inv', fontdict={'fontsize': 10})\n",
    "ax.set_xlim(0, 100000)\n",
    "ax.set_ylim(0, 0.00025)\n",
    "\n",
    "ax = fig.add_subplot(212)\n",
    "ax.hist(x_ctr_inv, bins=bins, color='red', alpha=0.2, label='ctr', density=True)\n",
    "ax.hist(x_test_inv, bins=bins, color='blue', alpha=0.2, label='test', density=True)\n",
    "ax.legend(prop={'size': 10})\n",
    "ax.set_title('after_inv', fontdict={'fontsize': 10})\n",
    "ax.set_xlim(0, 100000)\n",
    "ax.set_ylim(0, 0.00025)\n",
    "\n",
    "fig.show()"
   ]
  },
  {
   "cell_type": "markdown",
   "metadata": {},
   "source": [
    "# 傾向スコアマッチング"
   ]
  },
  {
   "cell_type": "markdown",
   "metadata": {},
   "source": [
    "## マッチング "
   ]
  },
  {
   "cell_type": "markdown",
   "metadata": {},
   "source": [
    "主だったライブラリが見つからなかったので、do whyライブラリを元に改造  \n",
    "https://github.com/microsoft/dowhy/blob/91d175b9fc8f61af28dfccdeda2556acdc977ff2/dowhy/causal_estimators/propensity_score_matching_estimator.py"
   ]
  },
  {
   "cell_type": "code",
   "execution_count": 792,
   "metadata": {
    "ExecuteTime": {
     "end_time": "2019-07-21T06:52:29.124507Z",
     "start_time": "2019-07-21T06:52:29.104684Z"
    }
   },
   "outputs": [],
   "source": [
    "def ps_matching(df, y_col, z_col, ps_col, caliper=None):\n",
    "    treated = df.loc[df[z_col] == 1]\n",
    "    control = df.loc[df[z_col] == 0]\n",
    "    control_neighbors = (NearestNeighbors(\n",
    "        n_neighbors=1,\n",
    "        algorithm='ball_tree').fit(control[ps_col].values.reshape(-1, 1)))\n",
    "    distances, indices = control_neighbors.kneighbors(\n",
    "        treated[ps_col].values.reshape(-1, 1))\n",
    "    print('num_of_test_{}'.format(len(treated)))\n",
    "    if caliper is not None:\n",
    "        less_caliper_index = np.where(distances.reshape(-1) <= caliper)\n",
    "        distances = distances[less_caliper_index]\n",
    "        indices = indices[less_caliper_index]\n",
    "\n",
    "    # estimate ATE on treated by summing over difference between matched neighbors\n",
    "    ate = 0\n",
    "    numtreatedunits = len(indices)\n",
    "    print('num_of_pair_{}'.format(numtreatedunits))\n",
    "\n",
    "    df_pair_test =  pd.DataFrame(columns=df.columns)\n",
    "    df_pair_ctr = pd.DataFrame(columns=df.columns)\n",
    "    for i in range(numtreatedunits):\n",
    "        treated_outcome = treated.iloc[i][y_col].item()\n",
    "        control_outcome = control.iloc[indices[i]][y_col].item()\n",
    "        ate += treated_outcome - control_outcome\n",
    "        df_pair_ctr = df_pair_ctr.append(control.iloc[indices[i], :])\n",
    "        df_pair_test = df_pair_test.append(treated.iloc[i, :])\n",
    "    ate /= numtreatedunits\n",
    "\n",
    "    # matchしたテスコンを1行\n",
    "    df_pair_ctr.reset_index(inplace=True)\n",
    "    df_pair_test.reset_index(inplace=True)\n",
    "    df_pair_ctr.columns = [\"ctr_\" + colname for colname in df_pair_ctr.columns]\n",
    "    df_pair_test.columns = [\"test_\" + colname for colname in df_pair_test.columns]\n",
    "\n",
    "    df_pair = pd.concat([df_pair_test, df_pair_ctr], axis=1)\n",
    "    print(ate)\n",
    "    return ate, df_pair"
   ]
  },
  {
   "cell_type": "code",
   "execution_count": 793,
   "metadata": {
    "ExecuteTime": {
     "end_time": "2019-07-21T06:52:53.869750Z",
     "start_time": "2019-07-21T06:52:30.234911Z"
    }
   },
   "outputs": [
    {
     "name": "stdout",
     "output_type": "stream",
     "text": [
      "num_of_test_4144\n",
      "num_of_pair_4144\n",
      "271.882722007722\n"
     ]
    },
    {
     "data": {
      "text/plain": [
       "271.882722007722"
      ]
     },
     "execution_count": 793,
     "metadata": {},
     "output_type": "execute_result"
    }
   ],
   "source": [
    "ate, df_pair = ps_matching(df, y_col='gamesecond',  z_col='cm_dummy', ps_col='pred_lr', caliper=0.2)\n",
    "ate"
   ]
  },
  {
   "cell_type": "code",
   "execution_count": 795,
   "metadata": {
    "ExecuteTime": {
     "end_time": "2019-07-21T06:53:26.542324Z",
     "start_time": "2019-07-21T06:53:26.531657Z"
    }
   },
   "outputs": [
    {
     "data": {
      "text/plain": [
       "271.882722007722"
      ]
     },
     "execution_count": 795,
     "metadata": {},
     "output_type": "execute_result"
    }
   ],
   "source": [
    "sum(df_pair['test_gamesecond'] - df_pair['ctr_gamesecond']) / 4144"
   ]
  },
  {
   "cell_type": "markdown",
   "metadata": {},
   "source": [
    "## SD"
   ]
  },
  {
   "cell_type": "code",
   "execution_count": 814,
   "metadata": {
    "ExecuteTime": {
     "end_time": "2019-07-21T07:02:28.022671Z",
     "start_time": "2019-07-21T07:02:28.012925Z"
    }
   },
   "outputs": [],
   "source": [
    "def cal_sd(df_pair, colname):\n",
    "    x_test = df_pair['test_{}'.format(colname)]\n",
    "    x_ctr = df_pair['ctr_{}'.format(colname)]\n",
    "    sd = (np.mean(x_test) - np.mean(x_ctr)) / np.sqrt((np.var(x_test) + np.var(x_ctr)) / 2)\n",
    "    return abs(sd)"
   ]
  },
  {
   "cell_type": "code",
   "execution_count": 818,
   "metadata": {
    "ExecuteTime": {
     "end_time": "2019-07-21T07:04:40.189508Z",
     "start_time": "2019-07-21T07:04:40.174926Z"
    }
   },
   "outputs": [
    {
     "name": "stdout",
     "output_type": "stream",
     "text": [
      "SD_of_TVwatch_day_is:0.0866092467165027\n",
      "SD_of_inc_is:0.038831545007124726\n",
      "SD_of_pmoney_is:0.04211676096041157\n"
     ]
    }
   ],
   "source": [
    "for colname in ['TVwatch_day', 'inc', 'pmoney']:\n",
    "    sd = cal_sd(df_pair, colname)\n",
    "    print('SD_of_{}_is:{}'.format(colname, sd))"
   ]
  },
  {
   "cell_type": "markdown",
   "metadata": {},
   "source": [
    "# IPW"
   ]
  },
  {
   "cell_type": "code",
   "execution_count": 677,
   "metadata": {
    "ExecuteTime": {
     "end_time": "2019-07-15T11:32:57.879521Z",
     "start_time": "2019-07-15T11:32:57.871237Z"
    }
   },
   "outputs": [
    {
     "name": "stdout",
     "output_type": "stream",
     "text": [
      "IPW_effect:469.90583769792784\n"
     ]
    }
   ],
   "source": [
    "Y = df['gamesecond']\n",
    "Z = df['cm_dummy']\n",
    "\n",
    "PS = df['pred_lr']\n",
    "\n",
    "IPW1 = sum(Z * Y / PS) / sum(Z / PS)\n",
    "IPW0 = sum(((1 - Z) * Y) / (1 - PS)) / sum((1 - Z) / (1 - PS))\n",
    "effect = IPW1 - IPW0\n",
    "print('IPW_effect:{}'.format(effect))"
   ]
  },
  {
   "cell_type": "code",
   "execution_count": 679,
   "metadata": {
    "ExecuteTime": {
     "end_time": "2019-07-15T11:32:58.706911Z",
     "start_time": "2019-07-15T11:32:58.698698Z"
    }
   },
   "outputs": [
    {
     "name": "stdout",
     "output_type": "stream",
     "text": [
      "IPW_effect:6137.5393988281585\n"
     ]
    }
   ],
   "source": [
    "df_tmp = df[(df['pred_lgb'] < 0.99) & (df['pred_lgb'] > 0.01)]\n",
    "Y = df_tmp['gamesecond']\n",
    "Z = df_tmp['cm_dummy']\n",
    "\n",
    "PS = df_tmp['pred_lgb']\n",
    "\n",
    "IPW1 = sum(Z * Y / PS) / sum(Z / PS)\n",
    "IPW0 = sum(((1 - Z) * Y) / (1 - PS)) / sum((1 - Z) / (1 - PS))\n",
    "effect = IPW1 - IPW0\n",
    "print('IPW_effect:{}'.format(effect))"
   ]
  },
  {
   "cell_type": "markdown",
   "metadata": {},
   "source": [
    "# 回帰分析"
   ]
  },
  {
   "cell_type": "code",
   "execution_count": 827,
   "metadata": {
    "ExecuteTime": {
     "end_time": "2019-07-27T08:43:16.227696Z",
     "start_time": "2019-07-27T08:43:16.214637Z"
    }
   },
   "outputs": [
    {
     "data": {
      "text/plain": [
       "((10000, 32), (10000,))"
      ]
     },
     "execution_count": 827,
     "metadata": {},
     "output_type": "execute_result"
    }
   ],
   "source": [
    "y_col = 'gamesecond'\n",
    "z_col = 'cm_dummy'\n",
    "x_cols = [\n",
    "    col for col in df.columns if col not in [\n",
    "        'gamecount', 'gamecount', 'gamesecond', 'cm_dummy',\n",
    "        'pred_lgb', 'pred_lr', 'pred_rf',\n",
    "        'z0_reg_pred_lgb', 'z1_reg_pred_lgb',\n",
    "        'z0_reg_pred_rf', 'z1_reg_pred_rf',\n",
    "        'z0_reg_pred_rg', 'z1_reg_pred_rg'\n",
    "    ]\n",
    "]\n",
    "df_x_all = df[x_cols]\n",
    "df_y_all = df[y_col]\n",
    "df_x_all.shape, df_y_all.shape"
   ]
  },
  {
   "cell_type": "code",
   "execution_count": 707,
   "metadata": {
    "ExecuteTime": {
     "end_time": "2019-07-17T11:21:21.583378Z",
     "start_time": "2019-07-17T11:17:56.240556Z"
    },
    "scrolled": true
   },
   "outputs": [
    {
     "name": "stdout",
     "output_type": "stream",
     "text": [
      "z=0\n",
      "(5856, 31) (5856,)\n",
      "CV_0\n",
      "LightGBM_fitting...\n",
      "Training until validation scores don't improve for 1000 rounds.\n",
      "[1000]\ttrain's l2: 112707\ttest's l2: 104353\n",
      "[2000]\ttrain's l2: 14318.4\ttest's l2: 25849.5\n",
      "[3000]\ttrain's l2: 3954.25\ttest's l2: 18746.4\n",
      "[4000]\ttrain's l2: 1976.17\ttest's l2: 17414.5\n",
      "[5000]\ttrain's l2: 1507.24\ttest's l2: 17107.1\n",
      "[6000]\ttrain's l2: 1389.69\ttest's l2: 17101.8\n",
      "Early stopping, best iteration is:\n",
      "[5166]\ttrain's l2: 1476.33\ttest's l2: 17065.3\n",
      "RandomForestRegressor_fitting...\n",
      "Ridge_fitting...\n",
      "insample_mse_of_LightGBM:1476.327158955872\n",
      "insample_mse_of_RandomForestRegressor:3460533.679087929\n",
      "insample_mse_of_Ridge:367641072.24186\n",
      "oof_mse_of_LightGBM:17065.31485760139\n",
      "oof_mse_of_RandomForestRegressor:6608707.172368728\n",
      "oof_mse_of_Ridge:371965150.50188303\n",
      "CV_1\n",
      "LightGBM_fitting...\n",
      "Training until validation scores don't improve for 1000 rounds.\n",
      "[1000]\ttrain's l2: 135257\ttest's l2: 3.91476e+06\n",
      "[2000]\ttrain's l2: 15469.4\ttest's l2: 3.80483e+06\n",
      "[3000]\ttrain's l2: 4885.84\ttest's l2: 3.79056e+06\n",
      "[4000]\ttrain's l2: 2488.44\ttest's l2: 3.78471e+06\n",
      "[5000]\ttrain's l2: 1762.22\ttest's l2: 3.78294e+06\n",
      "[6000]\ttrain's l2: 1535.96\ttest's l2: 3.78302e+06\n",
      "Early stopping, best iteration is:\n",
      "[5158]\ttrain's l2: 1704.05\ttest's l2: 3.78251e+06\n",
      "RandomForestRegressor_fitting...\n",
      "Ridge_fitting...\n",
      "insample_mse_of_LightGBM:1704.0497791321632\n",
      "insample_mse_of_RandomForestRegressor:3639631.1256550644\n",
      "insample_mse_of_Ridge:401166367.5833871\n",
      "oof_mse_of_LightGBM:3782505.004626357\n",
      "oof_mse_of_RandomForestRegressor:9580462.443813732\n",
      "oof_mse_of_Ridge:236538171.51251945\n",
      "CV_2\n",
      "LightGBM_fitting...\n",
      "Training until validation scores don't improve for 1000 rounds.\n",
      "[1000]\ttrain's l2: 128175\ttest's l2: 290017\n",
      "[2000]\ttrain's l2: 16604.3\ttest's l2: 106061\n",
      "[3000]\ttrain's l2: 4304.83\ttest's l2: 84367.3\n",
      "[4000]\ttrain's l2: 1979.46\ttest's l2: 80125.6\n",
      "[5000]\ttrain's l2: 1424.72\ttest's l2: 78988.3\n",
      "[6000]\ttrain's l2: 1257.14\ttest's l2: 78581.7\n",
      "[7000]\ttrain's l2: 1205.01\ttest's l2: 78445.9\n",
      "[8000]\ttrain's l2: 1187.29\ttest's l2: 78393.3\n",
      "[9000]\ttrain's l2: 1181.83\ttest's l2: 78371.2\n",
      "[10000]\ttrain's l2: 1179.71\ttest's l2: 78357.3\n",
      "[11000]\ttrain's l2: 1178.97\ttest's l2: 78351.8\n",
      "[12000]\ttrain's l2: 1178.71\ttest's l2: 78347.3\n",
      "[13000]\ttrain's l2: 1178.61\ttest's l2: 78345.7\n",
      "[14000]\ttrain's l2: 1178.58\ttest's l2: 78344.9\n",
      "[15000]\ttrain's l2: 1178.57\ttest's l2: 78344.6\n",
      "Early stopping, best iteration is:\n",
      "[14855]\ttrain's l2: 1178.57\ttest's l2: 78344.5\n",
      "RandomForestRegressor_fitting...\n",
      "Ridge_fitting...\n",
      "insample_mse_of_LightGBM:1178.5672567929819\n",
      "insample_mse_of_RandomForestRegressor:5697555.6466412535\n",
      "insample_mse_of_Ridge:308794971.6285125\n",
      "oof_mse_of_LightGBM:78344.48677551081\n",
      "oof_mse_of_RandomForestRegressor:40129522.9289339\n",
      "oof_mse_of_Ridge:607348882.5718064\n",
      "CV_3\n",
      "LightGBM_fitting...\n",
      "Training until validation scores don't improve for 1000 rounds.\n",
      "[1000]\ttrain's l2: 111611\ttest's l2: 225949\n",
      "[2000]\ttrain's l2: 11905.6\ttest's l2: 109637\n",
      "[3000]\ttrain's l2: 3500.84\ttest's l2: 100232\n",
      "[4000]\ttrain's l2: 1877.2\ttest's l2: 98202.7\n",
      "[5000]\ttrain's l2: 1496.38\ttest's l2: 97532.8\n",
      "[6000]\ttrain's l2: 1385.47\ttest's l2: 97230.4\n",
      "[7000]\ttrain's l2: 1352.65\ttest's l2: 97092.9\n",
      "[8000]\ttrain's l2: 1343.03\ttest's l2: 97043.2\n",
      "[9000]\ttrain's l2: 1340.12\ttest's l2: 97018.5\n",
      "[10000]\ttrain's l2: 1339.15\ttest's l2: 97007.7\n",
      "[11000]\ttrain's l2: 1338.82\ttest's l2: 97001.4\n",
      "[12000]\ttrain's l2: 1338.7\ttest's l2: 96999\n",
      "[13000]\ttrain's l2: 1338.66\ttest's l2: 96997\n",
      "[14000]\ttrain's l2: 1338.65\ttest's l2: 96995.4\n",
      "[15000]\ttrain's l2: 1338.64\ttest's l2: 96994.9\n",
      "[16000]\ttrain's l2: 1338.64\ttest's l2: 96994.6\n",
      "[17000]\ttrain's l2: 1338.64\ttest's l2: 96994.4\n",
      "[18000]\ttrain's l2: 1338.64\ttest's l2: 96994.3\n",
      "[19000]\ttrain's l2: 1338.64\ttest's l2: 96994.3\n",
      "[20000]\ttrain's l2: 1338.64\ttest's l2: 96994.2\n",
      "[21000]\ttrain's l2: 1338.64\ttest's l2: 96994.2\n",
      "[22000]\ttrain's l2: 1338.64\ttest's l2: 96994.2\n",
      "[23000]\ttrain's l2: 1338.64\ttest's l2: 96994.2\n",
      "[24000]\ttrain's l2: 1338.64\ttest's l2: 96994.2\n",
      "[25000]\ttrain's l2: 1338.64\ttest's l2: 96994.2\n",
      "[26000]\ttrain's l2: 1338.64\ttest's l2: 96994.2\n",
      "Early stopping, best iteration is:\n",
      "[25726]\ttrain's l2: 1338.64\ttest's l2: 96994.2\n",
      "RandomForestRegressor_fitting...\n",
      "Ridge_fitting...\n",
      "insample_mse_of_LightGBM:1338.6423496565455\n",
      "insample_mse_of_RandomForestRegressor:1982633.2500267653\n",
      "insample_mse_of_Ridge:412655450.9504667\n",
      "oof_mse_of_LightGBM:96994.20757498145\n",
      "oof_mse_of_RandomForestRegressor:40969406.29602191\n",
      "oof_mse_of_Ridge:190869386.04419887\n",
      "CV_4\n",
      "LightGBM_fitting...\n",
      "Training until validation scores don't improve for 1000 rounds.\n",
      "[1000]\ttrain's l2: 163605\ttest's l2: 273251\n",
      "[2000]\ttrain's l2: 21896.2\ttest's l2: 54647.1\n",
      "[3000]\ttrain's l2: 5053.17\ttest's l2: 22041.2\n",
      "[4000]\ttrain's l2: 1876.81\ttest's l2: 16405.5\n",
      "[5000]\ttrain's l2: 1120.43\ttest's l2: 15235\n",
      "[6000]\ttrain's l2: 923.793\ttest's l2: 14961.5\n",
      "[7000]\ttrain's l2: 867.645\ttest's l2: 14888.8\n",
      "[8000]\ttrain's l2: 850.094\ttest's l2: 14865.5\n",
      "[9000]\ttrain's l2: 844.518\ttest's l2: 14862.6\n",
      "[10000]\ttrain's l2: 842.65\ttest's l2: 14859.5\n",
      "Early stopping, best iteration is:\n",
      "[9360]\ttrain's l2: 843.589\ttest's l2: 14859.3\n",
      "RandomForestRegressor_fitting...\n",
      "Ridge_fitting...\n",
      "insample_mse_of_LightGBM:843.5888576968805\n",
      "insample_mse_of_RandomForestRegressor:5181237.674283983\n",
      "insample_mse_of_Ridge:347874931.45573735\n",
      "oof_mse_of_LightGBM:14859.335702560256\n",
      "oof_mse_of_RandomForestRegressor:10127236.03212816\n",
      "oof_mse_of_Ridge:450418768.9589302\n",
      "z=0_all_CV_done\n",
      "CV_insample_mse_of_LightGBM:1308.2350804468886\n",
      "CV_insample_mse_of_RandomForestRegressor:3992318.2751389993\n",
      "CV_insample_mse_of_Ridge:367626558.77199274\n",
      "CV_oof_mse_of_LightGBM:797820.3214861164\n",
      "CV_oof_mse_of_RandomForestRegressor:21480526.954195246\n",
      "CV_oof_mse_of_Ridge:371428163.63210666\n",
      "z=1\n",
      "(4144, 31) (4144,)\n",
      "CV_0\n",
      "LightGBM_fitting...\n",
      "Training until validation scores don't improve for 1000 rounds.\n",
      "[1000]\ttrain's l2: 135071\ttest's l2: 123178\n",
      "[2000]\ttrain's l2: 16724.7\ttest's l2: 30354.1\n",
      "[3000]\ttrain's l2: 2493.95\ttest's l2: 18061.9\n",
      "[4000]\ttrain's l2: 470.549\ttest's l2: 16345.7\n",
      "[5000]\ttrain's l2: 102.159\ttest's l2: 16163.8\n",
      "[6000]\ttrain's l2: 25.142\ttest's l2: 16175.2\n",
      "Early stopping, best iteration is:\n",
      "[5354]\ttrain's l2: 60.9307\ttest's l2: 16154.1\n",
      "RandomForestRegressor_fitting...\n",
      "Ridge_fitting...\n",
      "insample_mse_of_LightGBM:60.9306592719675\n",
      "insample_mse_of_RandomForestRegressor:55516.917218147806\n",
      "insample_mse_of_Ridge:218892983.5758901\n",
      "oof_mse_of_LightGBM:16154.078514615752\n",
      "oof_mse_of_RandomForestRegressor:234709.81160078634\n",
      "oof_mse_of_Ridge:270260300.42388874\n",
      "CV_1\n",
      "LightGBM_fitting...\n",
      "Training until validation scores don't improve for 1000 rounds.\n",
      "[1000]\ttrain's l2: 59976.3\ttest's l2: 73591.9\n",
      "[2000]\ttrain's l2: 6399.99\ttest's l2: 7157.28\n",
      "[3000]\ttrain's l2: 1138.89\ttest's l2: 1466.38\n",
      "[4000]\ttrain's l2: 261.654\ttest's l2: 498.781\n",
      "[5000]\ttrain's l2: 67.1555\ttest's l2: 287.545\n",
      "[6000]\ttrain's l2: 17.9852\ttest's l2: 235.324\n",
      "[7000]\ttrain's l2: 5.0841\ttest's l2: 221.399\n",
      "[8000]\ttrain's l2: 1.57104\ttest's l2: 217.485\n",
      "[9000]\ttrain's l2: 0.547982\ttest's l2: 216.209\n",
      "[10000]\ttrain's l2: 0.221962\ttest's l2: 215.738\n",
      "[11000]\ttrain's l2: 0.111359\ttest's l2: 215.551\n",
      "[12000]\ttrain's l2: 0.0749339\ttest's l2: 215.41\n",
      "[13000]\ttrain's l2: 0.0625706\ttest's l2: 215.338\n",
      "[14000]\ttrain's l2: 0.0586224\ttest's l2: 215.313\n",
      "[15000]\ttrain's l2: 0.0572624\ttest's l2: 215.298\n",
      "[16000]\ttrain's l2: 0.0568046\ttest's l2: 215.285\n",
      "[17000]\ttrain's l2: 0.0566588\ttest's l2: 215.278\n",
      "[18000]\ttrain's l2: 0.056607\ttest's l2: 215.276\n",
      "[19000]\ttrain's l2: 0.0565898\ttest's l2: 215.275\n",
      "[20000]\ttrain's l2: 0.0565841\ttest's l2: 215.274\n",
      "[21000]\ttrain's l2: 0.056582\ttest's l2: 215.273\n",
      "[22000]\ttrain's l2: 0.0565812\ttest's l2: 215.273\n",
      "[23000]\ttrain's l2: 0.056581\ttest's l2: 215.273\n",
      "[24000]\ttrain's l2: 0.0565809\ttest's l2: 215.272\n",
      "[25000]\ttrain's l2: 0.0565809\ttest's l2: 215.272\n",
      "[26000]\ttrain's l2: 0.0565808\ttest's l2: 215.272\n",
      "[27000]\ttrain's l2: 0.0565808\ttest's l2: 215.272\n",
      "[28000]\ttrain's l2: 0.0565808\ttest's l2: 215.272\n",
      "[29000]\ttrain's l2: 0.0565808\ttest's l2: 215.272\n",
      "[30000]\ttrain's l2: 0.0565808\ttest's l2: 215.272\n",
      "[31000]\ttrain's l2: 0.0565808\ttest's l2: 215.272\n",
      "[32000]\ttrain's l2: 0.0565808\ttest's l2: 215.272\n",
      "[33000]\ttrain's l2: 0.0565808\ttest's l2: 215.272\n",
      "[34000]\ttrain's l2: 0.0565808\ttest's l2: 215.272\n",
      "[35000]\ttrain's l2: 0.0565808\ttest's l2: 215.272\n"
     ]
    },
    {
     "name": "stdout",
     "output_type": "stream",
     "text": [
      "[36000]\ttrain's l2: 0.0565808\ttest's l2: 215.272\n",
      "[37000]\ttrain's l2: 0.0565808\ttest's l2: 215.272\n",
      "[38000]\ttrain's l2: 0.0565808\ttest's l2: 215.272\n",
      "[39000]\ttrain's l2: 0.0565808\ttest's l2: 215.272\n",
      "[40000]\ttrain's l2: 0.0565808\ttest's l2: 215.272\n",
      "[41000]\ttrain's l2: 0.0565808\ttest's l2: 215.272\n",
      "Early stopping, best iteration is:\n",
      "[40104]\ttrain's l2: 0.0565808\ttest's l2: 215.272\n",
      "RandomForestRegressor_fitting...\n",
      "Ridge_fitting...\n",
      "insample_mse_of_LightGBM:0.056580837463194644\n",
      "insample_mse_of_RandomForestRegressor:37760.81918607301\n",
      "insample_mse_of_Ridge:246575165.06284288\n",
      "oof_mse_of_LightGBM:215.27235116335183\n",
      "oof_mse_of_RandomForestRegressor:129576.84838875747\n",
      "oof_mse_of_Ridge:155285935.56096393\n",
      "CV_2\n",
      "LightGBM_fitting...\n",
      "Training until validation scores don't improve for 1000 rounds.\n",
      "[1000]\ttrain's l2: 56931.9\ttest's l2: 68576.8\n",
      "[2000]\ttrain's l2: 5248.99\ttest's l2: 13179.4\n",
      "[3000]\ttrain's l2: 843.778\ttest's l2: 7182.78\n",
      "[4000]\ttrain's l2: 174.708\ttest's l2: 6190.62\n",
      "[5000]\ttrain's l2: 42.3827\ttest's l2: 6022.53\n",
      "[6000]\ttrain's l2: 11.0586\ttest's l2: 5993.18\n",
      "[7000]\ttrain's l2: 2.86376\ttest's l2: 5987.04\n",
      "Early stopping, best iteration is:\n",
      "[6671]\ttrain's l2: 4.41331\ttest's l2: 5986.89\n",
      "RandomForestRegressor_fitting...\n",
      "Ridge_fitting...\n",
      "insample_mse_of_LightGBM:4.413305940991028\n",
      "insample_mse_of_RandomForestRegressor:14250.271143490774\n",
      "insample_mse_of_Ridge:220001228.21910447\n",
      "oof_mse_of_LightGBM:5986.890275189344\n",
      "oof_mse_of_RandomForestRegressor:61507.782704583726\n",
      "oof_mse_of_Ridge:260464215.76553205\n",
      "CV_3\n",
      "LightGBM_fitting...\n",
      "Training until validation scores don't improve for 1000 rounds.\n",
      "[1000]\ttrain's l2: 38458.5\ttest's l2: 46029.9\n",
      "[2000]\ttrain's l2: 3223.66\ttest's l2: 5770.83\n",
      "[3000]\ttrain's l2: 540.852\ttest's l2: 1544.08\n",
      "[4000]\ttrain's l2: 119.318\ttest's l2: 858.535\n",
      "[5000]\ttrain's l2: 30.7817\ttest's l2: 728.869\n",
      "[6000]\ttrain's l2: 8.31065\ttest's l2: 695.216\n",
      "[7000]\ttrain's l2: 2.42373\ttest's l2: 687.355\n",
      "[8000]\ttrain's l2: 0.752748\ttest's l2: 685.152\n",
      "[9000]\ttrain's l2: 0.26676\ttest's l2: 684.74\n",
      "[10000]\ttrain's l2: 0.122385\ttest's l2: 684.534\n",
      "[11000]\ttrain's l2: 0.076957\ttest's l2: 684.468\n",
      "[12000]\ttrain's l2: 0.062994\ttest's l2: 684.437\n",
      "Early stopping, best iteration is:\n",
      "[11408]\ttrain's l2: 0.0693779\ttest's l2: 684.41\n",
      "RandomForestRegressor_fitting...\n",
      "Ridge_fitting...\n",
      "insample_mse_of_LightGBM:0.06937793365810241\n",
      "insample_mse_of_RandomForestRegressor:18215.49307303045\n",
      "insample_mse_of_Ridge:214793443.08401188\n",
      "oof_mse_of_LightGBM:684.4102975822458\n",
      "oof_mse_of_RandomForestRegressor:29489.72391377076\n",
      "oof_mse_of_Ridge:280200291.93453854\n",
      "CV_4\n",
      "LightGBM_fitting...\n",
      "Training until validation scores don't improve for 1000 rounds.\n",
      "[1000]\ttrain's l2: 75271.8\ttest's l2: 97094.2\n",
      "[2000]\ttrain's l2: 9200.72\ttest's l2: 18876.5\n",
      "[3000]\ttrain's l2: 1611.75\ttest's l2: 9325.51\n",
      "[4000]\ttrain's l2: 352.411\ttest's l2: 7353.71\n",
      "[5000]\ttrain's l2: 81.3053\ttest's l2: 6766\n",
      "[6000]\ttrain's l2: 20.3558\ttest's l2: 6598.38\n",
      "[7000]\ttrain's l2: 5.68047\ttest's l2: 6537.79\n",
      "[8000]\ttrain's l2: 1.5877\ttest's l2: 6512.35\n",
      "[9000]\ttrain's l2: 0.512847\ttest's l2: 6498.8\n",
      "[10000]\ttrain's l2: 0.192859\ttest's l2: 6489.71\n",
      "[11000]\ttrain's l2: 0.100148\ttest's l2: 6486.16\n",
      "[12000]\ttrain's l2: 0.0745751\ttest's l2: 6483.72\n",
      "[13000]\ttrain's l2: 0.0668539\ttest's l2: 6482.68\n",
      "[14000]\ttrain's l2: 0.0645513\ttest's l2: 6482.1\n",
      "[15000]\ttrain's l2: 0.0638422\ttest's l2: 6481.82\n",
      "[16000]\ttrain's l2: 0.0636282\ttest's l2: 6481.7\n",
      "[17000]\ttrain's l2: 0.0635613\ttest's l2: 6481.61\n",
      "[18000]\ttrain's l2: 0.0635399\ttest's l2: 6481.57\n",
      "[19000]\ttrain's l2: 0.0635332\ttest's l2: 6481.55\n",
      "[20000]\ttrain's l2: 0.063531\ttest's l2: 6481.53\n",
      "[21000]\ttrain's l2: 0.0635303\ttest's l2: 6481.52\n",
      "[22000]\ttrain's l2: 0.0635301\ttest's l2: 6481.52\n",
      "[23000]\ttrain's l2: 0.06353\ttest's l2: 6481.52\n",
      "[24000]\ttrain's l2: 0.06353\ttest's l2: 6481.52\n",
      "[25000]\ttrain's l2: 0.06353\ttest's l2: 6481.52\n",
      "[26000]\ttrain's l2: 0.06353\ttest's l2: 6481.52\n",
      "[27000]\ttrain's l2: 0.06353\ttest's l2: 6481.52\n",
      "[28000]\ttrain's l2: 0.06353\ttest's l2: 6481.52\n",
      "[29000]\ttrain's l2: 0.06353\ttest's l2: 6481.52\n",
      "[30000]\ttrain's l2: 0.06353\ttest's l2: 6481.52\n",
      "[31000]\ttrain's l2: 0.06353\ttest's l2: 6481.52\n",
      "[32000]\ttrain's l2: 0.06353\ttest's l2: 6481.52\n",
      "[33000]\ttrain's l2: 0.06353\ttest's l2: 6481.52\n",
      "[34000]\ttrain's l2: 0.06353\ttest's l2: 6481.52\n",
      "[35000]\ttrain's l2: 0.06353\ttest's l2: 6481.52\n",
      "[36000]\ttrain's l2: 0.06353\ttest's l2: 6481.52\n",
      "[37000]\ttrain's l2: 0.06353\ttest's l2: 6481.52\n",
      "[38000]\ttrain's l2: 0.06353\ttest's l2: 6481.52\n",
      "[39000]\ttrain's l2: 0.06353\ttest's l2: 6481.52\n",
      "[40000]\ttrain's l2: 0.06353\ttest's l2: 6481.52\n",
      "[41000]\ttrain's l2: 0.06353\ttest's l2: 6481.52\n",
      "[42000]\ttrain's l2: 0.06353\ttest's l2: 6481.52\n",
      "[43000]\ttrain's l2: 0.06353\ttest's l2: 6481.52\n",
      "[44000]\ttrain's l2: 0.06353\ttest's l2: 6481.52\n",
      "[45000]\ttrain's l2: 0.06353\ttest's l2: 6481.52\n",
      "[46000]\ttrain's l2: 0.06353\ttest's l2: 6481.52\n",
      "Early stopping, best iteration is:\n",
      "[45868]\ttrain's l2: 0.06353\ttest's l2: 6481.52\n",
      "RandomForestRegressor_fitting...\n",
      "Ridge_fitting...\n",
      "insample_mse_of_LightGBM:0.06352999885116896\n",
      "insample_mse_of_RandomForestRegressor:15121.01130639685\n",
      "insample_mse_of_Ridge:235606395.53691494\n",
      "oof_mse_of_LightGBM:6481.516142417978\n",
      "oof_mse_of_RandomForestRegressor:24827.188359140044\n",
      "oof_mse_of_Ridge:196931527.99740845\n",
      "z=1_all_CV_done\n",
      "CV_insample_mse_of_LightGBM:13.106690796586198\n",
      "CV_insample_mse_of_RandomForestRegressor:28172.902385427773\n",
      "CV_insample_mse_of_Ridge:227173843.09575287\n",
      "CV_oof_mse_of_LightGBM:5904.294258803237\n",
      "CV_oof_mse_of_RandomForestRegressor:96039.45127396613\n",
      "CV_oof_mse_of_Ridge:232637068.45961764\n"
     ]
    }
   ],
   "source": [
    "reg_preds_lgb = np.zeros(df.shape[0])\n",
    "reg_preds_rf = np.zeros(df.shape[0])\n",
    "reg_preds_rg = np.zeros(df.shape[0])\n",
    "\n",
    "for z in [0, 1]:\n",
    "    print('z={}'.format(z))\n",
    "    df_tmp = df.loc[df[z_col] == z]\n",
    "    df_x = df_tmp[x_cols]\n",
    "    df_y = df_tmp[y_col]\n",
    "    print(df_x.shape, df_y.shape)\n",
    "\n",
    "    oof_preds_lgb = np.zeros(df_tmp.shape[0])\n",
    "    oof_preds_rf = np.zeros(df_tmp.shape[0])\n",
    "    oof_preds_rg = np.zeros(df_tmp.shape[0])\n",
    "    insample_mse_list_lgb = []\n",
    "    insample_mse_list_rf = []\n",
    "    insample_mse_list_rg = []\n",
    "    feature_importance_df = pd.DataFrame()\n",
    "    n_splits = 5\n",
    "    kf = KFold(n_splits=n_splits, shuffle=True, random_state=0)\n",
    "    for n_fold, (train_index, valid_index) in enumerate(kf.split(df_x)):\n",
    "        print('CV_{}'.format(n_fold))\n",
    "        X_train, y_train = df_x.values[train_index], df_y.values[train_index]\n",
    "        X_valid, y_valid = df_x.values[valid_index], df_y.values[valid_index]\n",
    "        lgb_train = lgb.Dataset(X_train, label=y_train, free_raw_data=False)\n",
    "        lgb_test = lgb.Dataset(X_valid, label=y_valid, free_raw_data=False)\n",
    "\n",
    "        # LightGBM\n",
    "        print('LightGBM_fitting...')\n",
    "        params = {\n",
    "            'task': 'train',\n",
    "            'objective': 'regression',\n",
    "            'metric': 'mse',\n",
    "        }\n",
    "        model_lgb = lgb.train(\n",
    "            params,\n",
    "            lgb_train,\n",
    "            valid_sets=[lgb_train, lgb_test],\n",
    "            valid_names=['train', 'test'],\n",
    "            num_boost_round=100000,\n",
    "            early_stopping_rounds=1000,\n",
    "            verbose_eval=1000)\n",
    "\n",
    "        # RF\n",
    "        print('RandomForestRegressor_fitting...')\n",
    "        model_rf = RandomForestRegressor(n_estimators=500)\n",
    "        model_rf.fit(X_train, y_train)\n",
    "\n",
    "        # Ridge\n",
    "        print('Ridge_fitting...')\n",
    "        model_rg = Ridge()\n",
    "        model_rg.fit(X_train, y_train)\n",
    "\n",
    "        # pred_for_insample\n",
    "        pred_insample_lgb = model_lgb.predict( X_train, num_iteration=model_lgb.best_iteration)\n",
    "        pred_insample_rf = model_rf.predict(X_train)\n",
    "        pred_insample_rg = model_rg.predict(X_train)\n",
    "\n",
    "        insample_mse_lgb = (mean_squared_error(y_train, pred_insample_lgb))\n",
    "        insample_mse_rf = (mean_squared_error(y_train, pred_insample_rf))\n",
    "        insample_mse_rg = (mean_squared_error(y_train, pred_insample_rg))\n",
    "        print('insample_mse_of_LightGBM:{}'.format(insample_mse_lgb))\n",
    "        print('insample_mse_of_RandomForestRegressor:{}'.format(insample_mse_rf))\n",
    "        print('insample_mse_of_Ridge:{}'.format(insample_mse_rg))\n",
    "        insample_mse_list_lgb.append(insample_mse_lgb)\n",
    "        insample_mse_list_rf.append(insample_mse_rf)\n",
    "        insample_mse_list_rg.append(insample_mse_rg)\n",
    "\n",
    "        # pred_for_oof\n",
    "        oof_pred_lgb = model_lgb.predict(X_valid, num_iteration=model_lgb.best_iteration)\n",
    "        oof_pred_rf = model_rf.predict(X_valid)\n",
    "        oof_pred_rg = model_rg.predict(X_valid)\n",
    "    \n",
    "        oof_preds_lgb[valid_index] = oof_pred_lgb\n",
    "        oof_preds_rf[valid_index] = oof_pred_rf\n",
    "        oof_preds_rg[valid_index] = oof_pred_rg\n",
    "        \n",
    "        oof_mse_lgb = (mean_squared_error(y_valid, oof_pred_lgb))\n",
    "        oof_mse_rf = (mean_squared_error(y_valid, oof_pred_rf))\n",
    "        oof_mse_rg = (mean_squared_error(y_valid, oof_pred_rg))\n",
    "        print('oof_mse_of_LightGBM:{}'.format(oof_mse_lgb))\n",
    "        print('oof_mse_of_RandomForestRegressor:{}'.format(oof_mse_rf))\n",
    "        print('oof_mse_of_Ridge:{}'.format(oof_mse_rg))\n",
    "\n",
    "        #全データへの予測値\n",
    "        reg_preds_lgb += model_lgb.predict(df_x_all.values, num_iteration=model_lgb.best_iteration)\n",
    "        reg_preds_rf += model_rf.predict(df_x_all.values)\n",
    "        reg_preds_rg += model_rg.predict(df_x_all.values)\n",
    "\n",
    "        # 重要度の算出\n",
    "        fold_importance_df = pd.DataFrame()\n",
    "        fold_importance_df[\"feature\"] = x_cols\n",
    "        fold_importance_df[\"importance\"] = np.log1p(\n",
    "            model_lgb.feature_importance(\n",
    "                importance_type='gain', iteration=model_lgb.best_iteration))\n",
    "        fold_importance_df[\"fold\"] = n_fold + 1\n",
    "        feature_importance_df = pd.concat(\n",
    "            [feature_importance_df, fold_importance_df], axis=0)\n",
    "\n",
    "    print('z={}_all_CV_done'.format(z))\n",
    "    print('CV_insample_mse_of_LightGBM:{}'.format(np.mean(insample_mse_list_lgb)))\n",
    "    print('CV_insample_mse_of_RandomForestRegressor:{}'.format(np.mean(insample_mse_list_rf)))\n",
    "    print('CV_insample_mse_of_Ridge:{}'.format(np.mean(insample_mse_list_rg)))\n",
    "    \n",
    "    print('CV_oof_mse_of_LightGBM:{}'.format(mean_squared_error(df_y, oof_preds_lgb)))\n",
    "    print('CV_oof_mse_of_RandomForestRegressor:{}'.format(mean_squared_error(df_y, oof_preds_rf)))\n",
    "    print('CV_oof_mse_of_Ridge:{}'.format(mean_squared_error(df_y, oof_preds_rg)))\n",
    "    #予測値をdfに追加\n",
    "    df['z{}_reg_pred_lgb'.format(z)] = reg_preds_lgb / n_splits\n",
    "    df['z{}_reg_pred_rf'.format(z)] = reg_preds_rf / n_splits\n",
    "    df['z{}_reg_pred_rg'.format(z)] = reg_preds_rg / n_splits"
   ]
  },
  {
   "cell_type": "code",
   "execution_count": 709,
   "metadata": {
    "ExecuteTime": {
     "end_time": "2019-07-17T11:45:28.177867Z",
     "start_time": "2019-07-17T11:45:27.088255Z"
    },
    "scrolled": true
   },
   "outputs": [
    {
     "name": "stderr",
     "output_type": "stream",
     "text": [
      "/usr/local/lib/python3.5/dist-packages/scipy/stats/stats.py:1713: FutureWarning: Using a non-tuple sequence for multidimensional indexing is deprecated; use `arr[tuple(seq)]` instead of `arr[seq]`. In the future this will be interpreted as an array index, `arr[np.array(seq)]`, which will result either in an error or a different result.\n",
      "  return np.add.reduce(sorted[indexer] * weights, axis=axis) / sumval\n"
     ]
    },
    {
     "data": {
      "image/png": "[encoded data removed]",
      "text/plain": [
       "<Figure size 864x1080 with 1 Axes>"
      ]
     },
     "metadata": {},
     "output_type": "display_data"
    }
   ],
   "source": [
    "display_importances(feature_importance_df)"
   ]
  },
  {
   "cell_type": "markdown",
   "metadata": {},
   "source": [
    "# ダブルロバスト"
   ]
  },
  {
   "cell_type": "code",
   "execution_count": 723,
   "metadata": {
    "ExecuteTime": {
     "end_time": "2019-07-20T07:19:38.368108Z",
     "start_time": "2019-07-20T07:19:38.351324Z"
    }
   },
   "outputs": [
    {
     "name": "stdout",
     "output_type": "stream",
     "text": [
      "E(y_1):3102.2829932265536_E(y_0):2762.315547310952_effect:339.96744591560173\n"
     ]
    }
   ],
   "source": [
    "Y = df['gamesecond']\n",
    "Z = df['cm_dummy']\n",
    "PS = df['pred_lr']\n",
    "reg_0 = df['z0_reg_pred_rg']\n",
    "reg_1 = df['z1_reg_pred_rg']\n",
    "\n",
    "# E(y_1)\n",
    "dr_1 = np.mean(Z * Y / PS + (1 - Z / PS) * reg_1)\n",
    "\n",
    "# E(y_0)\n",
    "dr_0 = np.mean((1 - Z) * Y / (1 - PS) + (1 - (1 - Z) / (1 - PS)) * reg_0)\n",
    "\n",
    "print('E(y_1):{}_E(y_0):{}_effect:{}'.format(dr_1, dr_0, dr_1 - dr_0))"
   ]
  },
  {
   "cell_type": "markdown",
   "metadata": {},
   "source": [
    "# Priximityマッチング"
   ]
  },
  {
   "cell_type": "code",
   "execution_count": 727,
   "metadata": {
    "ExecuteTime": {
     "end_time": "2019-07-20T07:41:26.230602Z",
     "start_time": "2019-07-20T07:41:26.215197Z"
    }
   },
   "outputs": [
    {
     "data": {
      "text/plain": [
       "((10000, 31), (10000,))"
      ]
     },
     "execution_count": 727,
     "metadata": {},
     "output_type": "execute_result"
    }
   ],
   "source": [
    "y_col = 'gamesecond'\n",
    "z_col = 'cm_dummy'\n",
    "x_cols = [\n",
    "    col for col in df.columns if col not in [\n",
    "        'gamecount', 'gamedummy', 'gamesecond', 'cm_dummy',\n",
    "        'pred_lgb', 'pred_lr', 'pred_rf',\n",
    "        'z0_reg_pred_lgb', 'z1_reg_pred_lgb',\n",
    "        'z0_reg_pred_rf', 'z1_reg_pred_rf',\n",
    "        'z0_reg_pred_rg', 'z1_reg_pred_rg'\n",
    "    ]\n",
    "]\n",
    "df_x = df[x_cols]\n",
    "df_z = df[z_col]\n",
    "df_x.shape, df_z.shape"
   ]
  },
  {
   "cell_type": "code",
   "execution_count": 728,
   "metadata": {
    "ExecuteTime": {
     "end_time": "2019-07-20T07:41:47.042301Z",
     "start_time": "2019-07-20T07:41:44.899179Z"
    }
   },
   "outputs": [
    {
     "data": {
      "text/plain": [
       "RandomForestClassifier(bootstrap=True, class_weight=None, criterion='gini',\n",
       "            max_depth=None, max_features='auto', max_leaf_nodes=None,\n",
       "            min_impurity_decrease=0.0, min_impurity_split=None,\n",
       "            min_samples_leaf=1, min_samples_split=2,\n",
       "            min_weight_fraction_leaf=0.0, n_estimators=500, n_jobs=None,\n",
       "            oob_score=False, random_state=None, verbose=0,\n",
       "            warm_start=False)"
      ]
     },
     "execution_count": 728,
     "metadata": {},
     "output_type": "execute_result"
    }
   ],
   "source": [
    "model_rf = RandomForestClassifier(n_estimators=500)\n",
    "model_rf.fit(df_x.values, df_z.values)"
   ]
  },
  {
   "cell_type": "code",
   "execution_count": 736,
   "metadata": {
    "ExecuteTime": {
     "end_time": "2019-07-20T08:11:40.208536Z",
     "start_time": "2019-07-20T08:11:40.195244Z"
    }
   },
   "outputs": [],
   "source": [
    "def proximity(data):\n",
    "    prox_matrix = np.zeros((len(data), len(data)))\n",
    "    n_estimators = len(data[0])\n",
    "\n",
    "    for e, est in enumerate(np.transpose(np.array(data))):\n",
    "        print(e)\n",
    "        for n, n_node in enumerate(est):\n",
    "            for k, k_node in enumerate(est):\n",
    "                if n_node == k_node:\n",
    "                    prox_matrix[n][k] += 1\n",
    "\n",
    "    prox_matrix = 1.0 * np.array(prox_matrix) / n_estimators\n",
    "\n",
    "    return prox_matrix"
   ]
  },
  {
   "cell_type": "code",
   "execution_count": 732,
   "metadata": {
    "ExecuteTime": {
     "end_time": "2019-07-20T07:44:09.746272Z",
     "start_time": "2019-07-20T07:44:09.350154Z"
    }
   },
   "outputs": [
    {
     "data": {
      "text/plain": [
       "array([[ 696,  367,   93, ...,  465,  861, 1152],\n",
       "       [ 908,  576,  111, ..., 1120,  317,  565],\n",
       "       [1305,   12,   24, ...,  158, 1150,  965],\n",
       "       ...,\n",
       "       [ 488,   33,  117, ...,   65, 1290, 1021],\n",
       "       [ 488,   33,  117, ...,   65, 1290, 1021],\n",
       "       [ 488,   33,  117, ...,   65, 1290, 1021]])"
      ]
     },
     "execution_count": 732,
     "metadata": {},
     "output_type": "execute_result"
    }
   ],
   "source": [
    "app = model_rf.apply(df_x.values)\n",
    "app"
   ]
  },
  {
   "cell_type": "code",
   "execution_count": 737,
   "metadata": {
    "ExecuteTime": {
     "end_time": "2019-07-20T11:26:46.208654Z",
     "start_time": "2019-07-20T08:11:45.214967Z"
    }
   },
   "outputs": [
    {
     "name": "stdout",
     "output_type": "stream",
     "text": [
      "0\n",
      "1\n",
      "2\n",
      "3\n",
      "4\n",
      "5\n",
      "6\n",
      "7\n",
      "8\n",
      "9\n",
      "10\n",
      "11\n",
      "12\n",
      "13\n",
      "14\n",
      "15\n",
      "16\n",
      "17\n",
      "18\n",
      "19\n",
      "20\n",
      "21\n",
      "22\n",
      "23\n",
      "24\n",
      "25\n",
      "26\n",
      "27\n",
      "28\n",
      "29\n",
      "30\n",
      "31\n",
      "32\n",
      "33\n",
      "34\n",
      "35\n",
      "36\n",
      "37\n",
      "38\n",
      "39\n",
      "40\n",
      "41\n",
      "42\n",
      "43\n",
      "44\n",
      "45\n",
      "46\n",
      "47\n",
      "48\n",
      "49\n",
      "50\n",
      "51\n",
      "52\n",
      "53\n",
      "54\n",
      "55\n",
      "56\n",
      "57\n",
      "58\n",
      "59\n",
      "60\n",
      "61\n",
      "62\n",
      "63\n",
      "64\n",
      "65\n",
      "66\n",
      "67\n",
      "68\n",
      "69\n",
      "70\n",
      "71\n",
      "72\n",
      "73\n",
      "74\n",
      "75\n",
      "76\n",
      "77\n",
      "78\n",
      "79\n",
      "80\n",
      "81\n",
      "82\n",
      "83\n",
      "84\n",
      "85\n",
      "86\n",
      "87\n",
      "88\n",
      "89\n",
      "90\n",
      "91\n",
      "92\n",
      "93\n",
      "94\n",
      "95\n",
      "96\n",
      "97\n",
      "98\n",
      "99\n",
      "100\n",
      "101\n",
      "102\n",
      "103\n",
      "104\n",
      "105\n",
      "106\n",
      "107\n",
      "108\n",
      "109\n",
      "110\n",
      "111\n",
      "112\n",
      "113\n",
      "114\n",
      "115\n",
      "116\n",
      "117\n",
      "118\n",
      "119\n",
      "120\n",
      "121\n",
      "122\n",
      "123\n",
      "124\n",
      "125\n",
      "126\n",
      "127\n",
      "128\n",
      "129\n",
      "130\n",
      "131\n",
      "132\n",
      "133\n",
      "134\n",
      "135\n",
      "136\n",
      "137\n",
      "138\n",
      "139\n",
      "140\n",
      "141\n",
      "142\n",
      "143\n",
      "144\n",
      "145\n",
      "146\n",
      "147\n",
      "148\n",
      "149\n",
      "150\n",
      "151\n",
      "152\n",
      "153\n",
      "154\n",
      "155\n",
      "156\n",
      "157\n",
      "158\n",
      "159\n",
      "160\n",
      "161\n",
      "162\n",
      "163\n",
      "164\n",
      "165\n",
      "166\n",
      "167\n",
      "168\n",
      "169\n",
      "170\n",
      "171\n",
      "172\n",
      "173\n",
      "174\n",
      "175\n",
      "176\n",
      "177\n",
      "178\n",
      "179\n",
      "180\n",
      "181\n",
      "182\n",
      "183\n",
      "184\n",
      "185\n",
      "186\n",
      "187\n",
      "188\n",
      "189\n",
      "190\n",
      "191\n",
      "192\n",
      "193\n",
      "194\n",
      "195\n",
      "196\n",
      "197\n",
      "198\n",
      "199\n",
      "200\n",
      "201\n",
      "202\n",
      "203\n",
      "204\n",
      "205\n",
      "206\n",
      "207\n",
      "208\n",
      "209\n",
      "210\n",
      "211\n",
      "212\n",
      "213\n",
      "214\n",
      "215\n",
      "216\n",
      "217\n",
      "218\n",
      "219\n",
      "220\n",
      "221\n",
      "222\n",
      "223\n",
      "224\n",
      "225\n",
      "226\n",
      "227\n",
      "228\n",
      "229\n",
      "230\n",
      "231\n",
      "232\n",
      "233\n",
      "234\n",
      "235\n",
      "236\n",
      "237\n",
      "238\n",
      "239\n",
      "240\n",
      "241\n",
      "242\n",
      "243\n",
      "244\n",
      "245\n",
      "246\n",
      "247\n",
      "248\n",
      "249\n",
      "250\n",
      "251\n",
      "252\n",
      "253\n",
      "254\n",
      "255\n",
      "256\n",
      "257\n",
      "258\n",
      "259\n",
      "260\n",
      "261\n",
      "262\n",
      "263\n",
      "264\n",
      "265\n",
      "266\n",
      "267\n",
      "268\n",
      "269\n",
      "270\n",
      "271\n",
      "272\n",
      "273\n",
      "274\n",
      "275\n",
      "276\n",
      "277\n",
      "278\n",
      "279\n",
      "280\n",
      "281\n",
      "282\n",
      "283\n",
      "284\n",
      "285\n",
      "286\n",
      "287\n",
      "288\n",
      "289\n",
      "290\n",
      "291\n",
      "292\n",
      "293\n",
      "294\n",
      "295\n",
      "296\n",
      "297\n",
      "298\n",
      "299\n",
      "300\n",
      "301\n",
      "302\n",
      "303\n",
      "304\n",
      "305\n",
      "306\n",
      "307\n",
      "308\n",
      "309\n",
      "310\n",
      "311\n",
      "312\n",
      "313\n",
      "314\n",
      "315\n",
      "316\n",
      "317\n",
      "318\n",
      "319\n",
      "320\n",
      "321\n",
      "322\n",
      "323\n",
      "324\n",
      "325\n",
      "326\n",
      "327\n",
      "328\n",
      "329\n",
      "330\n",
      "331\n",
      "332\n",
      "333\n",
      "334\n",
      "335\n",
      "336\n",
      "337\n",
      "338\n",
      "339\n",
      "340\n",
      "341\n",
      "342\n",
      "343\n",
      "344\n",
      "345\n",
      "346\n",
      "347\n",
      "348\n",
      "349\n",
      "350\n",
      "351\n",
      "352\n",
      "353\n",
      "354\n",
      "355\n",
      "356\n",
      "357\n",
      "358\n",
      "359\n",
      "360\n",
      "361\n",
      "362\n",
      "363\n",
      "364\n",
      "365\n",
      "366\n",
      "367\n",
      "368\n",
      "369\n",
      "370\n",
      "371\n",
      "372\n",
      "373\n",
      "374\n",
      "375\n",
      "376\n",
      "377\n",
      "378\n",
      "379\n",
      "380\n",
      "381\n",
      "382\n",
      "383\n",
      "384\n",
      "385\n",
      "386\n",
      "387\n",
      "388\n",
      "389\n",
      "390\n",
      "391\n",
      "392\n",
      "393\n",
      "394\n",
      "395\n",
      "396\n",
      "397\n",
      "398\n",
      "399\n",
      "400\n",
      "401\n",
      "402\n",
      "403\n",
      "404\n",
      "405\n",
      "406\n",
      "407\n",
      "408\n",
      "409\n",
      "410\n",
      "411\n",
      "412\n",
      "413\n",
      "414\n",
      "415\n",
      "416\n",
      "417\n",
      "418\n",
      "419\n",
      "420\n",
      "421\n",
      "422\n",
      "423\n",
      "424\n",
      "425\n",
      "426\n",
      "427\n",
      "428\n",
      "429\n",
      "430\n",
      "431\n",
      "432\n",
      "433\n",
      "434\n",
      "435\n",
      "436\n",
      "437\n",
      "438\n",
      "439\n",
      "440\n",
      "441\n",
      "442\n",
      "443\n",
      "444\n",
      "445\n",
      "446\n",
      "447\n",
      "448\n",
      "449\n",
      "450\n",
      "451\n",
      "452\n",
      "453\n",
      "454\n",
      "455\n",
      "456\n",
      "457\n",
      "458\n",
      "459\n",
      "460\n",
      "461\n",
      "462\n",
      "463\n",
      "464\n",
      "465\n",
      "466\n",
      "467\n",
      "468\n",
      "469\n",
      "470\n",
      "471\n",
      "472\n",
      "473\n",
      "474\n",
      "475\n",
      "476\n",
      "477\n",
      "478\n",
      "479\n",
      "480\n",
      "481\n",
      "482\n",
      "483\n",
      "484\n",
      "485\n",
      "486\n",
      "487\n",
      "488\n",
      "489\n",
      "490\n",
      "491\n",
      "492\n",
      "493\n",
      "494\n",
      "495\n",
      "496\n",
      "497\n",
      "498\n",
      "499\n"
     ]
    }
   ],
   "source": [
    "prox_matrix = proximity(app)"
   ]
  },
  {
   "cell_type": "code",
   "execution_count": 738,
   "metadata": {
    "ExecuteTime": {
     "end_time": "2019-07-20T15:36:06.228688Z",
     "start_time": "2019-07-20T15:36:06.221403Z"
    }
   },
   "outputs": [
    {
     "data": {
      "text/plain": [
       "(10000, 10000)"
      ]
     },
     "execution_count": 738,
     "metadata": {},
     "output_type": "execute_result"
    }
   ],
   "source": [
    "prox_matrix.shape"
   ]
  },
  {
   "cell_type": "code",
   "execution_count": 742,
   "metadata": {
    "ExecuteTime": {
     "end_time": "2019-07-21T05:41:52.679671Z",
     "start_time": "2019-07-21T05:41:48.980499Z"
    }
   },
   "outputs": [],
   "source": [
    "df_prox = pd.DataFrame(prox_matrix)\n",
    "df_prox.to_pickle('proximity.pkl')"
   ]
  },
  {
   "cell_type": "code",
   "execution_count": 819,
   "metadata": {
    "ExecuteTime": {
     "end_time": "2019-07-21T07:33:21.785030Z",
     "start_time": "2019-07-21T07:33:20.762554Z"
    }
   },
   "outputs": [
    {
     "data": {
      "text/plain": [
       "2478.0658783783783"
      ]
     },
     "execution_count": 819,
     "metadata": {},
     "output_type": "execute_result"
    }
   ],
   "source": [
    "# 対角成分の削除\n",
    "prox_matrix_remove_diag = prox_matrix - np.diagflat(np.diag(prox_matrix))\n",
    "# テスト群の行のみ抽出\n",
    "prox_matrix_remove_diag_test = prox_matrix_remove_diag[df.loc[df[z_col] ==1].index, :]\n",
    "# コントロール群の列のみ抽出\n",
    "prox_matrix_remove_diag_test = prox_matrix_remove_diag_test[:, df.loc[df[z_col] == 0].index]\n",
    "prox_matrix_remove_diag_test.shape\n",
    "#  各テスト群のデータ(行)に対して最も類似度の高いコントロール群(列)の抽出\n",
    "max_index = np.argmax(prox_matrix_remove_diag_test, axis=1)\n",
    "\n",
    "# 　マッチング\n",
    "df_pair_test = df.loc[df[z_col] == 1]\n",
    "df_pair_ctr = df.iloc[max_index, :]\n",
    "df_pair_ctr.reset_index(inplace=True)\n",
    "df_pair_test.reset_index(inplace=True)\n",
    "df_pair_ctr.columns = [\"ctr_\" + colname for colname in df_pair_ctr.columns]\n",
    "df_pair_test.columns = [\"test_\" + colname for colname in df_pair_test.columns]\n",
    "df_pair = pd.concat([df_pair_test, df_pair_ctr], axis=1)\n",
    "# 因果効果の算出\n",
    "np.mean(df_pair['test_gamesecond'] - df_pair['ctr_gamesecond']) "
   ]
  },
  {
   "cell_type": "code",
   "execution_count": 820,
   "metadata": {
    "ExecuteTime": {
     "end_time": "2019-07-21T07:33:35.789025Z",
     "start_time": "2019-07-21T07:33:35.776172Z"
    }
   },
   "outputs": [
    {
     "name": "stdout",
     "output_type": "stream",
     "text": [
      "SD_of_TVwatch_day_is:0.7061676939448971\n",
      "SD_of_inc_is:0.12851003077841508\n",
      "SD_of_pmoney_is:0.5529597735167537\n"
     ]
    }
   ],
   "source": [
    "for colname in ['TVwatch_day', 'inc', 'pmoney']:\n",
    "    sd = cal_sd(df：」：＿＿：_pair, colname)\n",
    "    print('SD_of_{}_is:{}'.format(colname, sd))"
   ]
  },
  {
   "cell_type": "code",
   "execution_count": 823,
   "metadata": {
    "ExecuteTime": {
     "end_time": "2019-07-21T07:38:22.397864Z",
     "start_time": "2019-07-21T07:38:21.863259Z"
    }
   },
   "outputs": [
    {
     "data": {
      "text/plain": [
       "0.00038489766249785853"
      ]
     },
     "execution_count": 823,
     "metadata": {},
     "output_type": "execute_result"
    }
   ],
   "source": [
    "pred = model_rf.predict_proba(df[x_cols])[:, 1]\n",
    "log_loss(df[z_col], pred)"
   ]
  },
  {
   "cell_type": "markdown",
   "metadata": {},
   "source": [
    "# pdp"
   ]
  },
  {
   "cell_type": "code",
   "execution_count": 841,
   "metadata": {
    "ExecuteTime": {
     "end_time": "2019-07-28T07:19:59.735470Z",
     "start_time": "2019-07-28T07:19:59.477996Z"
    }
   },
   "outputs": [],
   "source": [
    "from pdpbox import pdp, info_plots"
   ]
  },
  {
   "cell_type": "code",
   "execution_count": 873,
   "metadata": {
    "ExecuteTime": {
     "end_time": "2019-07-28T07:55:32.218265Z",
     "start_time": "2019-07-28T07:55:32.209968Z"
    }
   },
   "outputs": [],
   "source": [
    "y_col = 'gamesecond'\n",
    "pdp_x_cols = [\n",
    "    col for col in df.columns if col not in [\n",
    "        'gamecount', 'gamesecond', 'pred_lgb',\n",
    "        'pred_lr', 'pred_rf', 'pred_lgb_calibrated', \n",
    "        'z0_reg_pred_lgb', 'z1_reg_pred_lgb',\n",
    "        'z0_reg_pred_rf', 'z1_reg_pred_rf',\n",
    "        'z0_reg_pred_rg', 'z1_reg_pred_rg'\n",
    "    ]\n",
    "]"
   ]
  },
  {
   "cell_type": "code",
   "execution_count": 875,
   "metadata": {
    "ExecuteTime": {
     "end_time": "2019-07-28T07:56:45.771580Z",
     "start_time": "2019-07-28T07:55:51.188513Z"
    },
    "scrolled": true
   },
   "outputs": [
    {
     "name": "stdout",
     "output_type": "stream",
     "text": [
      "Training until validation scores don't improve for 1000 rounds.\n",
      "[1000]\ttrain's l2: 161.4\ttest's l2: 161.4\n",
      "[2000]\ttrain's l2: 9.74845\ttest's l2: 9.74845\n",
      "[3000]\ttrain's l2: 1.61307\ttest's l2: 1.61307\n",
      "[4000]\ttrain's l2: 0.361541\ttest's l2: 0.361541\n",
      "[5000]\ttrain's l2: 0.143164\ttest's l2: 0.143164\n",
      "[6000]\ttrain's l2: 0.0887365\ttest's l2: 0.0887365\n",
      "[7000]\ttrain's l2: 0.0728365\ttest's l2: 0.0728365\n",
      "[8000]\ttrain's l2: 0.0676775\ttest's l2: 0.0676775\n",
      "[9000]\ttrain's l2: 0.0659213\ttest's l2: 0.0659213\n",
      "[10000]\ttrain's l2: 0.0651428\ttest's l2: 0.0651428\n",
      "[11000]\ttrain's l2: 0.0648192\ttest's l2: 0.0648192\n",
      "[12000]\ttrain's l2: 0.0646842\ttest's l2: 0.0646842\n",
      "[13000]\ttrain's l2: 0.064629\ttest's l2: 0.064629\n",
      "[14000]\ttrain's l2: 0.0646035\ttest's l2: 0.0646035\n",
      "[15000]\ttrain's l2: 0.0645913\ttest's l2: 0.0645913\n",
      "[16000]\ttrain's l2: 0.0645862\ttest's l2: 0.0645862\n",
      "[17000]\ttrain's l2: 0.0645837\ttest's l2: 0.0645837\n",
      "[18000]\ttrain's l2: 0.0645825\ttest's l2: 0.0645825\n",
      "[19000]\ttrain's l2: 0.064582\ttest's l2: 0.064582\n",
      "[20000]\ttrain's l2: 0.0645818\ttest's l2: 0.0645818\n",
      "[21000]\ttrain's l2: 0.0645816\ttest's l2: 0.0645816\n",
      "[22000]\ttrain's l2: 0.0645816\ttest's l2: 0.0645816\n",
      "[23000]\ttrain's l2: 0.0645816\ttest's l2: 0.0645816\n",
      "[24000]\ttrain's l2: 0.0645816\ttest's l2: 0.0645816\n",
      "[25000]\ttrain's l2: 0.0645816\ttest's l2: 0.0645816\n",
      "[26000]\ttrain's l2: 0.0645815\ttest's l2: 0.0645815\n",
      "[27000]\ttrain's l2: 0.0645815\ttest's l2: 0.0645815\n",
      "[28000]\ttrain's l2: 0.0645815\ttest's l2: 0.0645815\n",
      "[29000]\ttrain's l2: 0.0645815\ttest's l2: 0.0645815\n",
      "[30000]\ttrain's l2: 0.0645815\ttest's l2: 0.0645815\n",
      "[31000]\ttrain's l2: 0.0645815\ttest's l2: 0.0645815\n",
      "[32000]\ttrain's l2: 0.0645815\ttest's l2: 0.0645815\n",
      "[33000]\ttrain's l2: 0.0645815\ttest's l2: 0.0645815\n",
      "[34000]\ttrain's l2: 0.0645815\ttest's l2: 0.0645815\n",
      "[35000]\ttrain's l2: 0.0645815\ttest's l2: 0.0645815\n",
      "[36000]\ttrain's l2: 0.0645815\ttest's l2: 0.0645815\n",
      "[37000]\ttrain's l2: 0.0645815\ttest's l2: 0.0645815\n",
      "[38000]\ttrain's l2: 0.0645815\ttest's l2: 0.0645815\n",
      "[39000]\ttrain's l2: 0.0645815\ttest's l2: 0.0645815\n",
      "[40000]\ttrain's l2: 0.0645815\ttest's l2: 0.0645815\n",
      "[41000]\ttrain's l2: 0.0645815\ttest's l2: 0.0645815\n",
      "[42000]\ttrain's l2: 0.0645815\ttest's l2: 0.0645815\n",
      "[43000]\ttrain's l2: 0.0645815\ttest's l2: 0.0645815\n",
      "[44000]\ttrain's l2: 0.0645815\ttest's l2: 0.0645815\n",
      "[45000]\ttrain's l2: 0.0645815\ttest's l2: 0.0645815\n",
      "[46000]\ttrain's l2: 0.0645815\ttest's l2: 0.0645815\n",
      "[47000]\ttrain's l2: 0.0645815\ttest's l2: 0.0645815\n",
      "[48000]\ttrain's l2: 0.0645815\ttest's l2: 0.0645815\n",
      "[49000]\ttrain's l2: 0.0645815\ttest's l2: 0.0645815\n",
      "[50000]\ttrain's l2: 0.0645815\ttest's l2: 0.0645815\n",
      "Early stopping, best iteration is:\n",
      "[49871]\ttrain's l2: 0.0645815\ttest's l2: 0.0645815\n"
     ]
    }
   ],
   "source": [
    "# insampleで学習したモデルの作成\n",
    "lgb_train = lgb.Dataset(df[pdp_x_cols], label=df[y_col], free_raw_data=False)\n",
    "lgb_test = lgb.Dataset(df[pdp_x_cols], label=df[y_col], free_raw_data=False)\n",
    "\n",
    "params = {\n",
    "    'task': 'train',\n",
    "    'objective': 'regression',\n",
    "    'metric': 'mse',\n",
    "}\n",
    "model_lgb = lgb.train(\n",
    "    params,\n",
    "    lgb_train,\n",
    "    valid_sets=[lgb_train, lgb_test],\n",
    "    valid_names=['train', 'test'],\n",
    "    num_boost_round=100000,\n",
    "    early_stopping_rounds=1000,\n",
    "    verbose_eval=1000)"
   ]
  },
  {
   "cell_type": "markdown",
   "metadata": {},
   "source": [
    "https://pdpbox.readthedocs.io/en/latest/pdp_isolate.html"
   ]
  },
  {
   "cell_type": "code",
   "execution_count": 876,
   "metadata": {
    "ExecuteTime": {
     "end_time": "2019-07-28T07:58:38.380892Z",
     "start_time": "2019-07-28T07:57:17.895235Z"
    }
   },
   "outputs": [
    {
     "data": {
      "image/png": "[encoded data removed]",
      "text/plain": [
       "<Figure size 1080x684 with 2 Axes>"
      ]
     },
     "metadata": {},
     "output_type": "display_data"
    }
   ],
   "source": [
    "pdp_TV = pdp.pdp_isolate(\n",
    "    model=model_lgb, dataset=df, model_features=pdp_x_cols, feature='TVwatch_day'\n",
    ")\n",
    "fig, axes = pdp.pdp_plot(pdp_TV, 'TVwatch_day',  frac_to_plot=100)"
   ]
  },
  {
   "cell_type": "code",
   "execution_count": 878,
   "metadata": {
    "ExecuteTime": {
     "end_time": "2019-07-28T08:01:03.366592Z",
     "start_time": "2019-07-28T08:00:47.417042Z"
    }
   },
   "outputs": [
    {
     "data": {
      "image/png": "[encoded data removed]",
      "text/plain": [
       "<Figure size 1080x684 with 2 Axes>"
      ]
     },
     "metadata": {},
     "output_type": "display_data"
    }
   ],
   "source": [
    "pdp_cm = pdp.pdp_isolate(\n",
    "    model=model_lgb, dataset=df, model_features=pdp_x_cols, feature='cm_dummy'\n",
    ")\n",
    "fig, axes = pdp.pdp_plot(pdp_isolate_out=pdp_cm,\n",
    "                         feature_name='cm_dummy',\n",
    "                         ncols=2)"
   ]
  }
 ],
 "metadata": {
  "kernelspec": {
   "display_name": "Python 3",
   "language": "python",
   "name": "python3"
  },
  "language_info": {
   "codemirror_mode": {
    "name": "ipython",
    "version": 3
   },
   "file_extension": ".py",
   "mimetype": "text/x-python",
   "name": "python",
   "nbconvert_exporter": "python",
   "pygments_lexer": "ipython3",
   "version": "3.5.2"
  },
  "toc": {
   "base_numbering": 1,
   "nav_menu": {},
   "number_sections": true,
   "sideBar": true,
   "skip_h1_title": false,
   "title_cell": "Table of Contents",
   "title_sidebar": "Contents",
   "toc_cell": false,
   "toc_position": {
    "height": "calc(100% - 180px)",
    "left": "10px",
    "top": "150px",
    "width": "384px"
   },
   "toc_section_display": true,
   "toc_window_display": false
  },
  "varInspector": {
   "cols": {
    "lenName": 16,
    "lenType": 16,
    "lenVar": 40
   },
   "kernels_config": {
    "python": {
     "delete_cmd_postfix": "",
     "delete_cmd_prefix": "del ",
     "library": "var_list.py",
     "varRefreshCmd": "print(var_dic_list())"
    },
    "r": {
     "delete_cmd_postfix": ") ",
     "delete_cmd_prefix": "rm(",
     "library": "var_list.r",
     "varRefreshCmd": "cat(var_dic_list()) "
    }
   },
   "types_to_exclude": [
    "module",
    "function",
    "builtin_function_or_method",
    "instance",
    "_Feature"
   ],
   "window_display": false
  }
 },
 "nbformat": 4,
 "nbformat_minor": 2
}
